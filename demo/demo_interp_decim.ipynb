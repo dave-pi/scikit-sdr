{
 "cells": [
  {
   "cell_type": "markdown",
   "metadata": {},
   "source": [
    "# <center>Interpolation Introductory Demo</center>\n",
    "\n",
    "This demo includes a graphical interface to specify the module's properties and is meant as an introduction to it's functionality. The **Upsampling factor** and **Filter** fields, translate directly to the equivalent module properties. The input signal is a list of complex symbols. Any valid Python expression can be used for it, in the **Signal** field (defined by the *sig* variable).\n",
    "\n",
    "The output shows the real and imaginary parts of the upsampled and filtered output signals. Note that the depending on the causality of the chosen filter, there could be a delay on the filtered signal. For example, for a typical (symmetrical around 0) Raised Cosine filter there is a $\\frac{N-1}{2}$ samples of delay, where $N$ is the number of coefficients of the filter. For the same reason, only the first $S-\\frac{N-1}{2m}$ symbols will be processed, where $S$ is the number of symbols in the input signal and $m$ the decimation/interpolation factor. Another detail to keep in mind is that the first $\\frac{N-1}{m}$ output symbols will have lower power due to the zero initial conditions of the filter.<br>\n",
    "Finally, the output also shows the magnitude and phase responses of the filter.\n",
    "\n",
    "The **Init** button should be pressed, whenever new parameters (or a new unrelated input signal) are specified. To clear the ouput, use the Jupyter Notebook's own shortcuts. Refer to the documentation in the Help menu."
   ]
  },
  {
   "cell_type": "code",
   "execution_count": null,
   "metadata": {},
   "outputs": [],
   "source": [
    "%matplotlib inline\n",
    "\n",
    "import ipywidgets as widgets\n",
    "import matplotlib.gridspec as gridspec\n",
    "import matplotlib.pyplot as plt\n",
    "import numpy as np\n",
    "\n",
    "import sksdr\n",
    "import utils\n",
    "\n",
    "interpolator = None\n",
    "output_samples = None\n",
    "\n",
    "def init(b):\n",
    "    global interpolator, disp\n",
    "    factor = factor_widget.value\n",
    "    _locals = {}\n",
    "    exec(filter_widget.value, None, _locals)\n",
    "    coeffs = _locals['coeffs']\n",
    "    interpolator = sksdr.FirInterpolator(factor, coeffs)\n",
    "    with disp:\n",
    "        print('Initiated with ' + repr(interpolator))\n",
    "\n",
    "def execute(b):\n",
    "    global interpolator, output_samples, disp\n",
    "    _locals = {}\n",
    "    exec(signal_widget.value, None, _locals)\n",
    "    sig = _locals['sig']\n",
    "    upsampled, out = interpolator(sig)\n",
    "    fig = plt.figure(figsize=(15,10))\n",
    "    gs = gridspec.GridSpec(2, 2, figure=fig)\n",
    "    with disp:\n",
    "        sksdr.time_plot([upsampled.real, out.real], ['Upsampled (Re)', 'Output (Re)'], [1, 1], 'Upsampling & Filter Output (Re)', fig=fig, gs=gs[0, 0])\n",
    "        sksdr.time_plot([upsampled.imag, out.imag], ['Upsampled (Im)', 'Output (Im)'], [1, 1], 'Upsampling & Filter Output (Im)', fig=fig, gs=gs[0, 1])\n",
    "        sksdr.freqz_plot(interpolator.coeffs, 1, 1, 'mag_db', 'Filter Frequency Response (Mag)', '|H|', fig=fig, gs=gs[1, 0])\n",
    "        sksdr.freqz_plot(interpolator.coeffs, 1, 1, 'angle', 'Filter Frequency Response (Phase)', r'$\\angle{H}$', fig=fig, gs=gs[1, 1])\n",
    "        plt.show()\n",
    "        output_samples = out\n",
    "        print('Output samples available in variable \"output_samples\"')\n",
    "\n",
    "style = dict(utils.description_width_style)\n",
    "settings_grid = widgets.GridspecLayout(2, 3)\n",
    "settings_grid[0, 0] = factor_widget = widgets.BoundedIntText(description='Upsampling factor: ', value=4, min=1, max=np.iinfo(int).max, continuous_update=False, style=style)\n",
    "settings_grid[0, 1:] = filter_widget = widgets.Textarea(description='Filter (coeffs=):', value='coeffs = sksdr.rrc(sps=4, rolloff=0.5, span=10)', continuous_update=False, style=style, layout=widgets.Layout(height='auto', width='auto'))\n",
    "settings_grid[1, :] = signal_widget = widgets.Textarea(description='Signal (sig=):', value='sig = np.tile(np.exp(1j * (2 * np.pi / 4 * np.arange(0,4) + np.pi / 4)), 4)', continuous_update=False, style=style, layout=widgets.Layout(height='auto', width='auto'))\n",
    "init_button  = widgets.Button(description='Init', tooltip='Init')\n",
    "init_button.on_click(init)\n",
    "execute_button = widgets.Button(description='Execute', tooltip='Execute')\n",
    "execute_button.on_click(execute)\n",
    "disp = widgets.Output()\n",
    "ui = widgets.VBox([\n",
    "    settings_grid,\n",
    "    widgets.HBox([init_button, execute_button]),\n",
    "    disp\n",
    "])\n",
    "display(ui)"
   ]
  }
 ],
 "metadata": {
  "kernelspec": {
   "display_name": "Python 3",
   "language": "python",
   "name": "python3"
  },
  "language_info": {
   "codemirror_mode": {
    "name": "ipython",
    "version": 3
   },
   "file_extension": ".py",
   "mimetype": "text/x-python",
   "name": "python",
   "nbconvert_exporter": "python",
   "pygments_lexer": "ipython3",
   "version": "3.6.9"
  }
 },
 "nbformat": 4,
 "nbformat_minor": 4
}
