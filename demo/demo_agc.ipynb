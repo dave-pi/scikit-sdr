{
 "cells": [
  {
   "cell_type": "markdown",
   "metadata": {},
   "source": [
    "# <center>AGC Introductory Demo</center>\n",
    "\n",
    "\n",
    "This demo includes a graphical interface to specify the module's properties and is meant as an introduction to it's functionality. The **Reference power**, **Max gain**, **Detector gain** and **Averaging length** fields, translate directly to the equivalent module properties.\n",
    "\n",
    "The **Number of samples** field defines the length of the input signal. it populates a variable *n* that can be used in the **Signal** field. Any valid Python expression can be used for the input signal (defined by the *sig* variable).\n",
    "\n",
    "The output shows plots of the input and output signals where the output power adjustment can be verified. The output power (of the last half of the output samples, to avoid the initial transients) will be numerically reported to compare against the desired value. Finally a plot of the error, as reported by the AGC, is shown. This is useful to analyse the damping factor, initial oscillation amplitude and steady-state error, for different combinations of input parameters.\n",
    "\n",
    "A new instance should be created (using the **Init** button), whenever new parameters (or a new unrelated input signal) are specified. To clear the ouput, use the Jupyter Notebook's own shortcuts. Refer to the documentation in the Help menu."
   ]
  },
  {
   "cell_type": "code",
   "execution_count": 1,
   "metadata": {},
   "outputs": [
    {
     "data": {
      "application/vnd.jupyter.widget-view+json": {
       "model_id": "129d3a4815434e4bbe79bb79482d54fa",
       "version_major": 2,
       "version_minor": 0
      },
      "text/plain": [
       "VBox(children=(GridspecLayout(children=(BoundedFloatText(value=1.0, description='Reference power:', layout=Lay…"
      ]
     },
     "metadata": {},
     "output_type": "display_data"
    }
   ],
   "source": [
    "%matplotlib inline\n",
    "\n",
    "import ipywidgets as widgets\n",
    "import matplotlib.pyplot as plt\n",
    "import matplotlib.gridspec as gridspec\n",
    "import numpy as np\n",
    "\n",
    "import sksdr\n",
    "import utils\n",
    "\n",
    "agc = None\n",
    "output_samples = None\n",
    "\n",
    "def init(b):\n",
    "    global agc, disp\n",
    "    ref_power = ref_power_widget.value\n",
    "    max_gain = max_gain_widget.value\n",
    "    det_gain = det_gain_widget.value\n",
    "    avg_len = avg_len_widget.value\n",
    "    agc = sksdr.AGC(ref_power, max_gain, det_gain, avg_len)\n",
    "    with disp:\n",
    "        print('Initiated with ' + repr(agc))\n",
    "\n",
    "def execute(b):\n",
    "    global agc, output_samples, disp\n",
    "    n = np.arange(num_samples_widget.value)\n",
    "    _locals = {'n': n}\n",
    "    exec(signal_widget.value, None, _locals)\n",
    "    sig = _locals['sig']\n",
    "    fig = plt.figure(figsize=(15,10))\n",
    "    gs = gridspec.GridSpec(2, 2, figure=fig)\n",
    "    with disp:\n",
    "        sksdr.time_plot([sig], [''], [1], 'Input Signal', fig=fig, gs=gs[0, 0])\n",
    "        out, err = agc(sig)\n",
    "        sksdr.time_plot([out], [''], [1], 'Output Signal', fig=fig, gs=gs[0, 1])\n",
    "        print('Output power: ' + str(sksdr.utils.power(out, 1 / 2)))\n",
    "        sksdr.time_plot([err], [''], [1], 'Error', fig=fig, gs=gs[1, 0])\n",
    "        plt.show()\n",
    "        output_samples = out\n",
    "        print('Output samples available in variable \"output_samples\"')\n",
    "\n",
    "style = dict(utils.description_width_style)\n",
    "settings_grid = widgets.GridspecLayout(3, 3)\n",
    "settings_grid[0, 0] = ref_power_widget = widgets.BoundedFloatText(description='Reference power:', value=1.0, min=0.0, max=np.finfo(float).max, continuous_update=False, style=style)\n",
    "settings_grid[0, 1] = max_gain_widget = widgets.BoundedFloatText(description='Max gain (dB):', value=60.0, min=0.0, max=np.finfo(float).max, continuous_update=False, style=style)\n",
    "settings_grid[0, 2] = det_gain_widget = widgets.BoundedFloatText(description='Detector gain:', value=0.01, min=0.01, max=np.finfo(float).max, continuous_update=False, style=style)\n",
    "settings_grid[1, 0] = avg_len_widget = widgets.BoundedIntText(description='Averaging length (samples):', value=100, min=1, max=np.iinfo(int).max, continuous_update=False, style=style)\n",
    "settings_grid[2, 0] = num_samples_widget = widgets.BoundedIntText(description='Number of samples (n=):', value=1000, min=1, max=np.iinfo(int).max, continuous_update=False, style=style)\n",
    "settings_grid[2, 1:] = signal_widget = widgets.Textarea(description='Signal (sig=):', value='sig = np.cos(2 * np.pi * n / 8)', continuous_update=False, style=style, layout=widgets.Layout(height='auto', width='auto'))\n",
    "init_button = widgets.Button(description='Init', tooltip='Init')\n",
    "init_button.on_click(init)\n",
    "execute_button = widgets.Button(description='Execute', tooltip='Execute')\n",
    "execute_button.on_click(execute)\n",
    "disp = widgets.Output()\n",
    "ui = widgets.VBox([\n",
    "    settings_grid,\n",
    "    widgets.HBox([init_button, execute_button]),\n",
    "    disp\n",
    "])\n",
    "display(ui)"
   ]
  }
 ],
 "metadata": {
  "kernelspec": {
   "display_name": "Python 3.6.9 64-bit",
   "language": "python",
   "name": "python36964bit763a2000d45e4ca6aa255883e009df8b"
  },
  "language_info": {
   "codemirror_mode": {
    "name": "ipython",
    "version": 3
   },
   "file_extension": ".py",
   "mimetype": "text/x-python",
   "name": "python",
   "nbconvert_exporter": "python",
   "pygments_lexer": "ipython3",
   "version": "3.6.9"
  },
  "widgets": {
   "application/vnd.jupyter.widget-state+json": {
    "state": {
     "0166018bbe9f483da6db7a42ab6b8662": {
      "model_module": "@jupyter-widgets/controls",
      "model_module_version": "1.5.0",
      "model_name": "ButtonStyleModel",
      "state": {}
     },
     "0534fd5e00a046e7b6ad2fbe30c2bc5b": {
      "model_module": "@jupyter-widgets/controls",
      "model_module_version": "1.5.0",
      "model_name": "DescriptionStyleModel",
      "state": {
       "description_width": "initial"
      }
     },
     "061e1c49e024479880f8566ceac7701d": {
      "model_module": "@jupyter-widgets/base",
      "model_module_version": "1.2.0",
      "model_name": "LayoutModel",
      "state": {
       "height": "auto"
      }
     },
     "06766b2cf2cd40d7b81b2f085f4c9e4f": {
      "model_module": "@jupyter-widgets/controls",
      "model_module_version": "1.5.0",
      "model_name": "HBoxModel",
      "state": {
       "children": [
        "IPY_MODEL_06c7b855627d4e7a82cf44cc73df33e4",
        "IPY_MODEL_52cc661913ad48a68629d0ae5f71c176"
       ],
       "layout": "IPY_MODEL_ed1d7f328e814e4c8223fb0ca5a05e59"
      }
     },
     "06c7b855627d4e7a82cf44cc73df33e4": {
      "model_module": "@jupyter-widgets/controls",
      "model_module_version": "1.5.0",
      "model_name": "ButtonModel",
      "state": {
       "description": "Init",
       "layout": "IPY_MODEL_cd954ed3ab4a4a879baf2fc03b7e1bce",
       "style": "IPY_MODEL_ca77e7587d33429ba0e1d4888bad1168",
       "tooltip": "Init"
      }
     },
     "0785f8c23cf343f0b4d11e285743717f": {
      "model_module": "@jupyter-widgets/controls",
      "model_module_version": "1.5.0",
      "model_name": "HBoxModel",
      "state": {
       "children": [
        "IPY_MODEL_b80555fb654c4f588b5ceae2c18d8a9f",
        "IPY_MODEL_f5af39faf4884ae1ace351b22b533fdb"
       ],
       "layout": "IPY_MODEL_88d58f3f0a2c4541a78ceafb7ae5bbb1"
      }
     },
     "079b7f7df84946998ec2cbd3e41bd609": {
      "model_module": "jupyter-matplotlib",
      "model_module_version": "^0.7.2",
      "model_name": "MPLCanvasModel",
      "state": {
       "_cursor": "default",
       "_figure_label": "Figure 1",
       "_height": 480,
       "_width": 640,
       "layout": "IPY_MODEL_9dbf40ac0bf24d8c8e9d1c67db82c48a",
       "toolbar": "IPY_MODEL_bc11cced78644e2195710988b86d62ed",
       "toolbar_position": "left"
      }
     },
     "09f4b080867840b884b9bdd7a355a8e7": {
      "model_module": "@jupyter-widgets/base",
      "model_module_version": "1.2.0",
      "model_name": "LayoutModel",
      "state": {}
     },
     "0a3ed0041d3c4456ab55aff330c710f2": {
      "model_module": "@jupyter-widgets/controls",
      "model_module_version": "1.5.0",
      "model_name": "BoundedIntTextModel",
      "state": {
       "description": "Averaging length (samples):",
       "layout": "IPY_MODEL_8e6ee72f89f4474286032da1a9aee4f8",
       "max": 9223372036854776000,
       "min": 1,
       "style": "IPY_MODEL_de80a79594154f428b891d7152714499",
       "value": 100
      }
     },
     "0c3b2d14dc524f26885c9efdf8112d4f": {
      "model_module": "@jupyter-widgets/base",
      "model_module_version": "1.2.0",
      "model_name": "LayoutModel",
      "state": {}
     },
     "0cf9236f95af484c9575d59ae844fbe4": {
      "model_module": "@jupyter-widgets/controls",
      "model_module_version": "1.5.0",
      "model_name": "DescriptionStyleModel",
      "state": {
       "description_width": "initial"
      }
     },
     "0e8e624d0dc14ec083be0419680cbc02": {
      "model_module": "@jupyter-widgets/controls",
      "model_module_version": "1.5.0",
      "model_name": "ButtonStyleModel",
      "state": {}
     },
     "0fcd26e66ecd476494cd25e489f1af7a": {
      "model_module": "@jupyter-widgets/base",
      "model_module_version": "1.2.0",
      "model_name": "LayoutModel",
      "state": {}
     },
     "105c868746954582bef5ccaa0ab83c3e": {
      "model_module": "@jupyter-widgets/base",
      "model_module_version": "1.2.0",
      "model_name": "LayoutModel",
      "state": {
       "grid_area": "widget004"
      }
     },
     "10eecea3a96d4cb2991f3bfc916982e2": {
      "model_module": "@jupyter-widgets/controls",
      "model_module_version": "1.5.0",
      "model_name": "DescriptionStyleModel",
      "state": {
       "description_width": "initial"
      }
     },
     "11afeca95b8a4f8e814809a5e286df58": {
      "model_module": "jupyter-matplotlib",
      "model_module_version": "^0.7.2",
      "model_name": "ToolbarModel",
      "state": {
       "layout": "IPY_MODEL_2ddf49a82ecc423786a6c852cd8b1e2a",
       "toolitems": [
        [
         "Home",
         "Reset original view",
         "home",
         "home"
        ],
        [
         "Back",
         "Back to previous view",
         "arrow-left",
         "back"
        ],
        [
         "Forward",
         "Forward to next view",
         "arrow-right",
         "forward"
        ],
        [
         "Pan",
         "Pan axes with left mouse, zoom with right",
         "arrows",
         "pan"
        ],
        [
         "Zoom",
         "Zoom to rectangle",
         "square-o",
         "zoom"
        ],
        [
         "Download",
         "Download plot",
         "floppy-o",
         "save_figure"
        ]
       ]
      }
     },
     "13668b4f746042498a5fd7596a1559d6": {
      "model_module": "@jupyter-widgets/controls",
      "model_module_version": "1.5.0",
      "model_name": "BoundedIntTextModel",
      "state": {
       "description": "Number of samples (n=):",
       "layout": "IPY_MODEL_b9fdfa517fa440969e9a3f0318ff67f9",
       "max": 9223372036854776000,
       "min": 1,
       "style": "IPY_MODEL_9612674a8137415f9f673881df4dd1a1",
       "value": 1000
      }
     },
     "15abb58823624512a44747aa4d828aad": {
      "model_module": "@jupyter-widgets/controls",
      "model_module_version": "1.5.0",
      "model_name": "TextareaModel",
      "state": {
       "continuous_update": false,
       "description": "Signal (sig=):",
       "layout": "IPY_MODEL_82fc10a8ebf44ff891f6dbd41ff10d84",
       "style": "IPY_MODEL_64b83cffce21414180ebb3350ba414ff",
       "value": "sig = np.cos(2 * np.pi * n / 8)"
      }
     },
     "15f54da973344142bac988af0e9e4c8a": {
      "model_module": "@jupyter-widgets/output",
      "model_module_version": "1.0.0",
      "model_name": "OutputModel",
      "state": {
       "layout": "IPY_MODEL_3948c612d82a4c389e4e76532dca41c0",
       "outputs": [
        {
         "data": {
          "application/vnd.jupyter.widget-view+json": {
           "model_id": "079b7f7df84946998ec2cbd3e41bd609",
           "version_major": 2,
           "version_minor": 0
          },
          "text/plain": "Canvas(toolbar=Toolbar(toolitems=[('Home', 'Reset original view', 'home', 'home'), ('Back', 'Back to previous …"
         },
         "metadata": {},
         "output_type": "display_data"
        },
        {
         "data": {
          "application/vnd.jupyter.widget-view+json": {
           "model_id": "71b6d30ec6e54c8c871971575bc50398",
           "version_major": 2,
           "version_minor": 0
          },
          "text/plain": "Canvas(toolbar=Toolbar(toolitems=[('Home', 'Reset original view', 'home', 'home'), ('Back', 'Back to previous …"
         },
         "metadata": {},
         "output_type": "display_data"
        },
        {
         "name": "stdout",
         "output_type": "stream",
         "text": "Output power: 1.0000118650211154\n"
        },
        {
         "data": {
          "application/vnd.jupyter.widget-view+json": {
           "model_id": "b8bc6b4f33a44cccb6c53dc589828877",
           "version_major": 2,
           "version_minor": 0
          },
          "text/plain": "Canvas(toolbar=Toolbar(toolitems=[('Home', 'Reset original view', 'home', 'home'), ('Back', 'Back to previous …"
         },
         "metadata": {},
         "output_type": "display_data"
        },
        {
         "name": "stdout",
         "output_type": "stream",
         "text": "Output samples available in variable \"output_samples\"\n"
        }
       ]
      }
     },
     "163ac4ecbd4f4770a8b194048478e990": {
      "model_module": "@jupyter-widgets/base",
      "model_module_version": "1.2.0",
      "model_name": "LayoutModel",
      "state": {
       "grid_area": "widget003"
      }
     },
     "18417513f4f949709b2d52d12f2ea87a": {
      "model_module": "@jupyter-widgets/controls",
      "model_module_version": "1.5.0",
      "model_name": "HBoxModel",
      "state": {
       "children": [
        "IPY_MODEL_7c08e9233a6842a38846f65ffb02bfee",
        "IPY_MODEL_430bc4104675407986a2f504f967f110"
       ],
       "layout": "IPY_MODEL_fb7f05caa0e748868678a37fc40e3825"
      }
     },
     "1aeef7e31c5d4e05a62e24189daa3aca": {
      "model_module": "@jupyter-widgets/controls",
      "model_module_version": "1.5.0",
      "model_name": "DescriptionStyleModel",
      "state": {
       "description_width": "initial"
      }
     },
     "1bf207a04a92439aa15a38365d525754": {
      "model_module": "@jupyter-widgets/controls",
      "model_module_version": "1.5.0",
      "model_name": "ButtonStyleModel",
      "state": {}
     },
     "1c7bdc0999644d11a510245d1bb4ce6e": {
      "model_module": "@jupyter-widgets/controls",
      "model_module_version": "1.5.0",
      "model_name": "DescriptionStyleModel",
      "state": {
       "description_width": "initial"
      }
     },
     "1e53b6f306314467ac24303c0f2f7b1e": {
      "model_module": "@jupyter-widgets/controls",
      "model_module_version": "1.5.0",
      "model_name": "HBoxModel",
      "state": {
       "children": [
        "IPY_MODEL_68be3426e0234a90b555b9d172c39e6e",
        "IPY_MODEL_3426ac125e904b34afa63acd63f82d4d"
       ],
       "layout": "IPY_MODEL_a0db05293de04685841f7902db543684"
      }
     },
     "1f52f3263cf4405bb8f368d391d84fc3": {
      "model_module": "@jupyter-widgets/base",
      "model_module_version": "1.2.0",
      "model_name": "LayoutModel",
      "state": {
       "grid_area": "widget005"
      }
     },
     "20d3eb04c0674aaa8f3d782a30a52d4e": {
      "model_module": "@jupyter-widgets/base",
      "model_module_version": "1.2.0",
      "model_name": "LayoutModel",
      "state": {
       "grid_area": "widget006",
       "height": "auto",
       "width": "auto"
      }
     },
     "23111ca7562d403793a12d263025788d": {
      "model_module": "@jupyter-widgets/base",
      "model_module_version": "1.2.0",
      "model_name": "LayoutModel",
      "state": {
       "grid_area": "widget001"
      }
     },
     "27653e9871eb420ab8a3d0e8f2315f5d": {
      "model_module": "@jupyter-widgets/controls",
      "model_module_version": "1.5.0",
      "model_name": "HTMLModel",
      "state": {
       "layout": "IPY_MODEL_849305891bae48f682f504e1b756bcbe",
       "style": "IPY_MODEL_81baf5cd43f84affb45a303e24aed8ee",
       "value": "<h1 align=\"center\">AGC Demo</h1>"
      }
     },
     "2842aa7bb67a4ac79d4e6f133d1eac0b": {
      "model_module": "@jupyter-widgets/base",
      "model_module_version": "1.2.0",
      "model_name": "LayoutModel",
      "state": {}
     },
     "2c3aecab4b974b4fbd5c17425a3acd79": {
      "model_module": "@jupyter-widgets/controls",
      "model_module_version": "1.5.0",
      "model_name": "ButtonStyleModel",
      "state": {}
     },
     "2d5caf3325da430eb44d23ce1df3c207": {
      "model_module": "@jupyter-widgets/base",
      "model_module_version": "1.2.0",
      "model_name": "LayoutModel",
      "state": {
       "grid_area": "widget003"
      }
     },
     "2ddf49a82ecc423786a6c852cd8b1e2a": {
      "model_module": "@jupyter-widgets/base",
      "model_module_version": "1.2.0",
      "model_name": "LayoutModel",
      "state": {}
     },
     "2e52d1395b0a4c889ef4da51266edf9e": {
      "model_module": "@jupyter-widgets/base",
      "model_module_version": "1.2.0",
      "model_name": "LayoutModel",
      "state": {
       "grid_area": "widget001"
      }
     },
     "2e76af41f26a43fcb9f844bd5ee25dfc": {
      "model_module": "@jupyter-widgets/controls",
      "model_module_version": "1.5.0",
      "model_name": "BoundedFloatTextModel",
      "state": {
       "description": "Detector gain:",
       "layout": "IPY_MODEL_df08ab7656d944ba83ee1f5f5f865e24",
       "max": 1.7976931348623157e+308,
       "min": 0.01,
       "step": null,
       "style": "IPY_MODEL_f027dc2cd80e42e1b85eb360058b73e9",
       "value": 0.01
      }
     },
     "2f37e0fb416e45a1a507fb6e428e67a5": {
      "model_module": "@jupyter-widgets/base",
      "model_module_version": "1.2.0",
      "model_name": "LayoutModel",
      "state": {
       "grid_area": "widget005"
      }
     },
     "2fbcb69189774c1d84e2495a8bf31e80": {
      "model_module": "@jupyter-widgets/base",
      "model_module_version": "1.2.0",
      "model_name": "LayoutModel",
      "state": {}
     },
     "3003570e0e92410ea3fbc4d268794695": {
      "model_module": "@jupyter-widgets/base",
      "model_module_version": "1.2.0",
      "model_name": "LayoutModel",
      "state": {
       "grid_area": "widget002"
      }
     },
     "3125cbc464744954ad612165d3dc3143": {
      "model_module": "@jupyter-widgets/base",
      "model_module_version": "1.2.0",
      "model_name": "LayoutModel",
      "state": {
       "grid_area": "widget004"
      }
     },
     "321e378d8c40464d89fd09426fe48216": {
      "model_module": "@jupyter-widgets/base",
      "model_module_version": "1.2.0",
      "model_name": "LayoutModel",
      "state": {
       "grid_area": "widget004"
      }
     },
     "3426ac125e904b34afa63acd63f82d4d": {
      "model_module": "@jupyter-widgets/controls",
      "model_module_version": "1.5.0",
      "model_name": "ButtonModel",
      "state": {
       "description": "Execute",
       "layout": "IPY_MODEL_ac17639f540f4ecaa2418d9d62f8339d",
       "style": "IPY_MODEL_0e8e624d0dc14ec083be0419680cbc02",
       "tooltip": "Execute"
      }
     },
     "3555ba8df2c544fc884199d55782e2b8": {
      "model_module": "@jupyter-widgets/base",
      "model_module_version": "1.2.0",
      "model_name": "LayoutModel",
      "state": {
       "grid_area": "widget006",
       "height": "auto",
       "width": "auto"
      }
     },
     "358d1993df694d279f5feca96933e0c0": {
      "model_module": "@jupyter-widgets/base",
      "model_module_version": "1.2.0",
      "model_name": "LayoutModel",
      "state": {}
     },
     "36aa3610c071459fb0076405af106892": {
      "model_module": "@jupyter-widgets/base",
      "model_module_version": "1.2.0",
      "model_name": "LayoutModel",
      "state": {
       "grid_area": "widget001"
      }
     },
     "37b99837d10e4698be18abd07dcbcb96": {
      "model_module": "@jupyter-widgets/controls",
      "model_module_version": "1.5.0",
      "model_name": "HTMLModel",
      "state": {
       "layout": "IPY_MODEL_c0fdbd565029419ba91831ac5a40f510",
       "style": "IPY_MODEL_d7ef23c41b604cfda327821c0c2fe429",
       "value": "<h1 align=\"center\">AGC Demo</h1>"
      }
     },
     "389e34cf46da432b9e088c3eef4892ae": {
      "model_module": "@jupyter-widgets/controls",
      "model_module_version": "1.5.0",
      "model_name": "ButtonModel",
      "state": {
       "description": "Execute",
       "layout": "IPY_MODEL_dbc595e6c073450fbc167a8e9605d9d4",
       "style": "IPY_MODEL_682150a34c1c47cdb1cb78b59699dfed",
       "tooltip": "Execute"
      }
     },
     "3948c612d82a4c389e4e76532dca41c0": {
      "model_module": "@jupyter-widgets/base",
      "model_module_version": "1.2.0",
      "model_name": "LayoutModel",
      "state": {}
     },
     "3a6152f6de9d4ebfb69156539e191850": {
      "model_module": "@jupyter-widgets/controls",
      "model_module_version": "1.5.0",
      "model_name": "DescriptionStyleModel",
      "state": {
       "description_width": "initial"
      }
     },
     "3df6bfb9d6b34ab788e52f5da5c5c049": {
      "model_module": "@jupyter-widgets/controls",
      "model_module_version": "1.5.0",
      "model_name": "BoundedFloatTextModel",
      "state": {
       "description": "Reference power:",
       "layout": "IPY_MODEL_2e52d1395b0a4c889ef4da51266edf9e",
       "max": 1.7976931348623157e+308,
       "step": null,
       "style": "IPY_MODEL_0cf9236f95af484c9575d59ae844fbe4",
       "value": 1
      }
     },
     "3f79a3b4827a4feab63ecbc654f7a5cc": {
      "model_module": "jupyter-matplotlib",
      "model_module_version": "^0.7.2",
      "model_name": "ToolbarModel",
      "state": {
       "layout": "IPY_MODEL_49329224a25b4541a4f278bd59e62081",
       "toolitems": [
        [
         "Home",
         "Reset original view",
         "home",
         "home"
        ],
        [
         "Back",
         "Back to previous view",
         "arrow-left",
         "back"
        ],
        [
         "Forward",
         "Forward to next view",
         "arrow-right",
         "forward"
        ],
        [
         "Pan",
         "Pan axes with left mouse, zoom with right",
         "arrows",
         "pan"
        ],
        [
         "Zoom",
         "Zoom to rectangle",
         "square-o",
         "zoom"
        ],
        [
         "Download",
         "Download plot",
         "floppy-o",
         "save_figure"
        ]
       ]
      }
     },
     "41c84113dc474b7a8076139d00362df6": {
      "model_module": "@jupyter-widgets/controls",
      "model_module_version": "1.5.0",
      "model_name": "BoundedFloatTextModel",
      "state": {
       "description": "Max gain (dB):",
       "layout": "IPY_MODEL_5c25a8b80e5741409739bbdd417d9ff3",
       "max": 1.7976931348623157e+308,
       "step": null,
       "style": "IPY_MODEL_60cbdc9aca4e49efb1e5a4fdb6f4b3e6",
       "value": 60
      }
     },
     "430bc4104675407986a2f504f967f110": {
      "model_module": "@jupyter-widgets/controls",
      "model_module_version": "1.5.0",
      "model_name": "ButtonModel",
      "state": {
       "description": "Execute",
       "layout": "IPY_MODEL_715cd664783f480cb590ab53c04bf252",
       "style": "IPY_MODEL_2c3aecab4b974b4fbd5c17425a3acd79",
       "tooltip": "Execute"
      }
     },
     "44920e7c1f2a4d179a667be00d6d93c7": {
      "model_module": "@jupyter-widgets/base",
      "model_module_version": "1.2.0",
      "model_name": "LayoutModel",
      "state": {}
     },
     "453077237a0f4f80b67a9d7040bb1af9": {
      "model_module": "@jupyter-widgets/base",
      "model_module_version": "1.2.0",
      "model_name": "LayoutModel",
      "state": {}
     },
     "46aa2af4d8e04cee8d7b86cd528f3de5": {
      "model_module": "@jupyter-widgets/controls",
      "model_module_version": "1.5.0",
      "model_name": "BoundedFloatTextModel",
      "state": {
       "description": "Reference power:",
       "layout": "IPY_MODEL_d4a572bacf8c4835b0ec8c6957ba919f",
       "max": 1.7976931348623157e+308,
       "step": null,
       "style": "IPY_MODEL_d33faada81a646fdb1f51e912c038be3",
       "value": 1
      }
     },
     "47d699f64c79427fa7daaacaa186c99e": {
      "model_module": "@jupyter-widgets/controls",
      "model_module_version": "1.5.0",
      "model_name": "DescriptionStyleModel",
      "state": {
       "description_width": "initial"
      }
     },
     "487fad0a02f24fd29284abc165ee1240": {
      "model_module": "@jupyter-widgets/controls",
      "model_module_version": "1.5.0",
      "model_name": "BoundedFloatTextModel",
      "state": {
       "description": "Reference power:",
       "layout": "IPY_MODEL_98fa8ac4c94f4c439cfa81f6a078ec4c",
       "max": 1.7976931348623157e+308,
       "step": null,
       "style": "IPY_MODEL_10eecea3a96d4cb2991f3bfc916982e2",
       "value": 1
      }
     },
     "49329224a25b4541a4f278bd59e62081": {
      "model_module": "@jupyter-widgets/base",
      "model_module_version": "1.2.0",
      "model_name": "LayoutModel",
      "state": {}
     },
     "4bf3e105f93b44658442caf535741ead": {
      "model_module": "@jupyter-widgets/base",
      "model_module_version": "1.2.0",
      "model_name": "LayoutModel",
      "state": {
       "grid_area": "widget003"
      }
     },
     "4dc1be42bf514b9ab6e28af31044e470": {
      "model_module": "@jupyter-widgets/base",
      "model_module_version": "1.2.0",
      "model_name": "LayoutModel",
      "state": {}
     },
     "4eb132d18db54fab8ce0583364f158c5": {
      "model_module": "@jupyter-widgets/controls",
      "model_module_version": "1.5.0",
      "model_name": "DescriptionStyleModel",
      "state": {
       "description_width": "initial"
      }
     },
     "4f3eb3e0206245cdb4d71c4578ce3af7": {
      "model_module": "@jupyter-widgets/controls",
      "model_module_version": "1.5.0",
      "model_name": "BoundedFloatTextModel",
      "state": {
       "description": "Max gain (dB):",
       "layout": "IPY_MODEL_f43bd8930a4a4b6aaf8c033f6d56d300",
       "max": 1.7976931348623157e+308,
       "step": null,
       "style": "IPY_MODEL_acb83d4bddb14951ac35c0b20e714a51",
       "value": 60
      }
     },
     "5112709c800a40029c6991b3f4143227": {
      "model_module": "@jupyter-widgets/controls",
      "model_module_version": "1.5.0",
      "model_name": "DescriptionStyleModel",
      "state": {
       "description_width": ""
      }
     },
     "52cc661913ad48a68629d0ae5f71c176": {
      "model_module": "@jupyter-widgets/controls",
      "model_module_version": "1.5.0",
      "model_name": "ButtonModel",
      "state": {
       "description": "Execute",
       "layout": "IPY_MODEL_8c0ff5bc6e0a4b38933b3553d3d82ee8",
       "style": "IPY_MODEL_cd2caa5e5b404614a707ae04c34f6184",
       "tooltip": "Execute"
      }
     },
     "54c6cc2b681b4456a0ac42ba7d66aa8a": {
      "model_module": "@jupyter-widgets/base",
      "model_module_version": "1.2.0",
      "model_name": "LayoutModel",
      "state": {}
     },
     "55fe5455146e4543a7ec1bfbc2ac19cc": {
      "model_module": "@jupyter-widgets/controls",
      "model_module_version": "1.5.0",
      "model_name": "DescriptionStyleModel",
      "state": {
       "description_width": "initial"
      }
     },
     "596654bbcdab4eafaf788590de294280": {
      "model_module": "@jupyter-widgets/base",
      "model_module_version": "1.2.0",
      "model_name": "LayoutModel",
      "state": {
       "grid_template_areas": "\"widget001 widget002 widget003\"\n\"widget004 . .\"\n\"widget005 widget006 widget006\"",
       "grid_template_columns": "repeat(3, 1fr)",
       "grid_template_rows": "repeat(3, 1fr)"
      }
     },
     "596e9e34d53743b286cfa78871e256fe": {
      "model_module": "@jupyter-widgets/output",
      "model_module_version": "1.0.0",
      "model_name": "OutputModel",
      "state": {
       "layout": "IPY_MODEL_453077237a0f4f80b67a9d7040bb1af9"
      }
     },
     "5ab101b79f684dbdbd9a21760b032fa7": {
      "model_module": "@jupyter-widgets/controls",
      "model_module_version": "1.5.0",
      "model_name": "GridBoxModel",
      "state": {
       "children": [
        "IPY_MODEL_628569f44b6a4acaae9b28b8d8fda258",
        "IPY_MODEL_41c84113dc474b7a8076139d00362df6",
        "IPY_MODEL_f07ab0dfb6f843dea264ed0cbff93253",
        "IPY_MODEL_c4c6268db5d44bd2ac5954fbf522c2c9",
        "IPY_MODEL_dee907b624784d7abffb80a810c2b333",
        "IPY_MODEL_15abb58823624512a44747aa4d828aad"
       ],
       "layout": "IPY_MODEL_c8eb972aafcc4fec8ca606643c6fa485"
      }
     },
     "5ba30ae79be74bae9774d15864c90efe": {
      "model_module": "@jupyter-widgets/base",
      "model_module_version": "1.2.0",
      "model_name": "LayoutModel",
      "state": {
       "grid_area": "widget002"
      }
     },
     "5c25a8b80e5741409739bbdd417d9ff3": {
      "model_module": "@jupyter-widgets/base",
      "model_module_version": "1.2.0",
      "model_name": "LayoutModel",
      "state": {
       "grid_area": "widget002"
      }
     },
     "5c7d3b6a7baf40da9bd9f07f59d88bc0": {
      "model_module": "@jupyter-widgets/controls",
      "model_module_version": "1.5.0",
      "model_name": "DescriptionStyleModel",
      "state": {
       "description_width": "initial"
      }
     },
     "5d29a25d42c140a480d6f4c81da0cbb8": {
      "model_module": "@jupyter-widgets/base",
      "model_module_version": "1.2.0",
      "model_name": "LayoutModel",
      "state": {}
     },
     "5db36cc70b594a5fa3928c8cb261e993": {
      "model_module": "@jupyter-widgets/controls",
      "model_module_version": "1.5.0",
      "model_name": "BoundedFloatTextModel",
      "state": {
       "description": "Reference power:",
       "layout": "IPY_MODEL_23111ca7562d403793a12d263025788d",
       "max": 1.7976931348623157e+308,
       "step": null,
       "style": "IPY_MODEL_f585e5cd5e0748f9af4ab3605b7f1d61",
       "value": 1
      }
     },
     "5dca7ebef2da4fa785f3c4c5f4694971": {
      "model_module": "jupyter-matplotlib",
      "model_module_version": "^0.7.2",
      "model_name": "ToolbarModel",
      "state": {
       "layout": "IPY_MODEL_c6125ca59f4d44e49e1e62d400e020d1",
       "toolitems": [
        [
         "Home",
         "Reset original view",
         "home",
         "home"
        ],
        [
         "Back",
         "Back to previous view",
         "arrow-left",
         "back"
        ],
        [
         "Forward",
         "Forward to next view",
         "arrow-right",
         "forward"
        ],
        [
         "Pan",
         "Pan axes with left mouse, zoom with right",
         "arrows",
         "pan"
        ],
        [
         "Zoom",
         "Zoom to rectangle",
         "square-o",
         "zoom"
        ],
        [
         "Download",
         "Download plot",
         "floppy-o",
         "save_figure"
        ]
       ]
      }
     },
     "5f00e520b5cb426bafcdfec7b8ae1061": {
      "model_module": "@jupyter-widgets/controls",
      "model_module_version": "1.5.0",
      "model_name": "ButtonStyleModel",
      "state": {}
     },
     "60afc31b6a324b7587db119f0a1a6c64": {
      "model_module": "@jupyter-widgets/controls",
      "model_module_version": "1.5.0",
      "model_name": "DescriptionStyleModel",
      "state": {
       "description_width": ""
      }
     },
     "60cbdc9aca4e49efb1e5a4fdb6f4b3e6": {
      "model_module": "@jupyter-widgets/controls",
      "model_module_version": "1.5.0",
      "model_name": "DescriptionStyleModel",
      "state": {
       "description_width": "initial"
      }
     },
     "628569f44b6a4acaae9b28b8d8fda258": {
      "model_module": "@jupyter-widgets/controls",
      "model_module_version": "1.5.0",
      "model_name": "BoundedFloatTextModel",
      "state": {
       "description": "Reference power:",
       "layout": "IPY_MODEL_36aa3610c071459fb0076405af106892",
       "max": 1.7976931348623157e+308,
       "step": null,
       "style": "IPY_MODEL_8021d84fa271492aa7468ab2fadcdb36",
       "value": 1
      }
     },
     "6292d89831074e12998317b0ab390e64": {
      "model_module": "@jupyter-widgets/base",
      "model_module_version": "1.2.0",
      "model_name": "LayoutModel",
      "state": {
       "grid_area": "widget006",
       "height": "auto",
       "width": "auto"
      }
     },
     "63d10e38a92d47fba46379c8db614ff4": {
      "model_module": "@jupyter-widgets/controls",
      "model_module_version": "1.5.0",
      "model_name": "GridBoxModel",
      "state": {
       "children": [
        "IPY_MODEL_46aa2af4d8e04cee8d7b86cd528f3de5",
        "IPY_MODEL_9db02d714ed34a0b92596f2b223419ef",
        "IPY_MODEL_bcb3e7d63017412db0794159a627b0bd",
        "IPY_MODEL_d5a07038c63549aaaefde89792f57dca",
        "IPY_MODEL_d2cabd8e67a244398e069a6de33f0312",
        "IPY_MODEL_6a2323b628964060b9209e3fc216ddab"
       ],
       "layout": "IPY_MODEL_596654bbcdab4eafaf788590de294280"
      }
     },
     "649819db813f454db1fe523e0e7494e8": {
      "model_module": "@jupyter-widgets/controls",
      "model_module_version": "1.5.0",
      "model_name": "HBoxModel",
      "state": {
       "children": [
        "IPY_MODEL_a4244554d370434088cc361ca7f35a26",
        "IPY_MODEL_389e34cf46da432b9e088c3eef4892ae"
       ],
       "layout": "IPY_MODEL_0c3b2d14dc524f26885c9efdf8112d4f"
      }
     },
     "64b83cffce21414180ebb3350ba414ff": {
      "model_module": "@jupyter-widgets/controls",
      "model_module_version": "1.5.0",
      "model_name": "DescriptionStyleModel",
      "state": {
       "description_width": "initial"
      }
     },
     "682150a34c1c47cdb1cb78b59699dfed": {
      "model_module": "@jupyter-widgets/controls",
      "model_module_version": "1.5.0",
      "model_name": "ButtonStyleModel",
      "state": {}
     },
     "68be3426e0234a90b555b9d172c39e6e": {
      "model_module": "@jupyter-widgets/controls",
      "model_module_version": "1.5.0",
      "model_name": "ButtonModel",
      "state": {
       "description": "Init",
       "layout": "IPY_MODEL_2842aa7bb67a4ac79d4e6f133d1eac0b",
       "style": "IPY_MODEL_9dfb5a405bc34ed48fc08d854f300674",
       "tooltip": "Init"
      }
     },
     "6a2323b628964060b9209e3fc216ddab": {
      "model_module": "@jupyter-widgets/controls",
      "model_module_version": "1.5.0",
      "model_name": "TextareaModel",
      "state": {
       "continuous_update": false,
       "description": "Signal (sig=):",
       "layout": "IPY_MODEL_a8ab5113c19f4e01971a1c1e8541f9a1",
       "style": "IPY_MODEL_d5891f85ff6041c2a5b85f40b63b822f",
       "value": "sig = np.cos(2 * np.pi * n / 8)"
      }
     },
     "6a7848a9528e4bca9d81a83ce8ac7644": {
      "model_module": "@jupyter-widgets/base",
      "model_module_version": "1.2.0",
      "model_name": "LayoutModel",
      "state": {
       "grid_template_areas": "\"widget001 widget002 widget003\"\n\"widget004 . .\"\n\"widget005 widget006 widget006\"",
       "grid_template_columns": "repeat(3, 1fr)",
       "grid_template_rows": "repeat(3, 1fr)"
      }
     },
     "6c5eeb673e574d26a14950703c85449d": {
      "model_module": "@jupyter-widgets/controls",
      "model_module_version": "1.5.0",
      "model_name": "DescriptionStyleModel",
      "state": {
       "description_width": "initial"
      }
     },
     "6d53a9e2b17c44c6bfff8cfa1a64a3b1": {
      "model_module": "@jupyter-widgets/controls",
      "model_module_version": "1.5.0",
      "model_name": "BoundedFloatTextModel",
      "state": {
       "description": "Max gain (dB):",
       "layout": "IPY_MODEL_e055caa7b233434c895574e13ccde000",
       "max": 1.7976931348623157e+308,
       "step": null,
       "style": "IPY_MODEL_6c5eeb673e574d26a14950703c85449d",
       "value": 60
      }
     },
     "6fb2efa1a65c4efd827a937d6f06ac8e": {
      "model_module": "@jupyter-widgets/base",
      "model_module_version": "1.2.0",
      "model_name": "LayoutModel",
      "state": {
       "height": "auto"
      }
     },
     "70199e22b8d644739332c11ab21dbcc6": {
      "model_module": "jupyter-matplotlib",
      "model_module_version": "^0.7.2",
      "model_name": "ToolbarModel",
      "state": {
       "layout": "IPY_MODEL_44920e7c1f2a4d179a667be00d6d93c7",
       "toolitems": [
        [
         "Home",
         "Reset original view",
         "home",
         "home"
        ],
        [
         "Back",
         "Back to previous view",
         "arrow-left",
         "back"
        ],
        [
         "Forward",
         "Forward to next view",
         "arrow-right",
         "forward"
        ],
        [
         "Pan",
         "Pan axes with left mouse, zoom with right",
         "arrows",
         "pan"
        ],
        [
         "Zoom",
         "Zoom to rectangle",
         "square-o",
         "zoom"
        ],
        [
         "Download",
         "Download plot",
         "floppy-o",
         "save_figure"
        ]
       ]
      }
     },
     "701fa592f836445c81a3b7b9b0e646cb": {
      "model_module": "@jupyter-widgets/output",
      "model_module_version": "1.0.0",
      "model_name": "OutputModel",
      "state": {
       "layout": "IPY_MODEL_888e053e43204506879c8671130f5d4c"
      }
     },
     "715cd664783f480cb590ab53c04bf252": {
      "model_module": "@jupyter-widgets/base",
      "model_module_version": "1.2.0",
      "model_name": "LayoutModel",
      "state": {}
     },
     "71a0e692bad14a4f9b1225f96b753374": {
      "model_module": "@jupyter-widgets/base",
      "model_module_version": "1.2.0",
      "model_name": "LayoutModel",
      "state": {
       "grid_area": "widget002"
      }
     },
     "71b6d30ec6e54c8c871971575bc50398": {
      "model_module": "jupyter-matplotlib",
      "model_module_version": "^0.7.2",
      "model_name": "MPLCanvasModel",
      "state": {
       "_cursor": "default",
       "_figure_label": "Figure 2",
       "_height": 480,
       "_width": 640,
       "layout": "IPY_MODEL_0fcd26e66ecd476494cd25e489f1af7a",
       "toolbar": "IPY_MODEL_11afeca95b8a4f8e814809a5e286df58",
       "toolbar_position": "left"
      }
     },
     "73ee3a87c28345aba031f38eec59446f": {
      "model_module": "@jupyter-widgets/controls",
      "model_module_version": "1.5.0",
      "model_name": "VBoxModel",
      "state": {
       "children": [
        "IPY_MODEL_5ab101b79f684dbdbd9a21760b032fa7",
        "IPY_MODEL_649819db813f454db1fe523e0e7494e8"
       ],
       "layout": "IPY_MODEL_79ee92f698284dbd9615ee0c44f06346"
      }
     },
     "7464c1ce6f6c46c28e21f41c970f22fd": {
      "model_module": "@jupyter-widgets/base",
      "model_module_version": "1.2.0",
      "model_name": "LayoutModel",
      "state": {}
     },
     "7466481d7be8432cb410034ac4aecc65": {
      "model_module": "@jupyter-widgets/base",
      "model_module_version": "1.2.0",
      "model_name": "LayoutModel",
      "state": {}
     },
     "7641fd6e0c454a0a97a600203719a987": {
      "model_module": "@jupyter-widgets/controls",
      "model_module_version": "1.5.0",
      "model_name": "BoundedIntTextModel",
      "state": {
       "description": "Averaging length (samples):",
       "layout": "IPY_MODEL_321e378d8c40464d89fd09426fe48216",
       "max": 9223372036854776000,
       "min": 1,
       "style": "IPY_MODEL_55fe5455146e4543a7ec1bfbc2ac19cc",
       "value": 100
      }
     },
     "77fd61011d4b4cf0a5d0ab9f649c40d0": {
      "model_module": "@jupyter-widgets/base",
      "model_module_version": "1.2.0",
      "model_name": "LayoutModel",
      "state": {
       "grid_template_areas": "\"widget001 widget002 widget003\"\n\"widget004 . .\"\n\"widget005 widget006 widget006\"",
       "grid_template_columns": "repeat(3, 1fr)",
       "grid_template_rows": "repeat(3, 1fr)"
      }
     },
     "79ee92f698284dbd9615ee0c44f06346": {
      "model_module": "@jupyter-widgets/base",
      "model_module_version": "1.2.0",
      "model_name": "LayoutModel",
      "state": {}
     },
     "79f7316824944293b022056c520155ed": {
      "model_module": "@jupyter-widgets/base",
      "model_module_version": "1.2.0",
      "model_name": "LayoutModel",
      "state": {}
     },
     "7a9a098b7774447f834422b048c35474": {
      "model_module": "@jupyter-widgets/base",
      "model_module_version": "1.2.0",
      "model_name": "LayoutModel",
      "state": {
       "grid_template_areas": "\"widget001 widget002 widget003\"\n\"widget004 . .\"\n\"widget005 widget006 widget006\"",
       "grid_template_columns": "repeat(3, 1fr)",
       "grid_template_rows": "repeat(3, 1fr)"
      }
     },
     "7af755e946e34768b200f567ce4381fd": {
      "model_module": "@jupyter-widgets/controls",
      "model_module_version": "1.5.0",
      "model_name": "GridBoxModel",
      "state": {
       "children": [
        "IPY_MODEL_487fad0a02f24fd29284abc165ee1240",
        "IPY_MODEL_97066a0bbee04ecf894cbd3aa15897e6",
        "IPY_MODEL_2e76af41f26a43fcb9f844bd5ee25dfc",
        "IPY_MODEL_7641fd6e0c454a0a97a600203719a987",
        "IPY_MODEL_a031fb02cb064716a67ee18a28b07801",
        "IPY_MODEL_c5d90967cc76448f9bf2b5ae8df10a96"
       ],
       "layout": "IPY_MODEL_77fd61011d4b4cf0a5d0ab9f649c40d0"
      }
     },
     "7c08e9233a6842a38846f65ffb02bfee": {
      "model_module": "@jupyter-widgets/controls",
      "model_module_version": "1.5.0",
      "model_name": "ButtonModel",
      "state": {
       "description": "Init",
       "layout": "IPY_MODEL_cd99b8159335416a99b2a25ecb1867b7",
       "style": "IPY_MODEL_5f00e520b5cb426bafcdfec7b8ae1061",
       "tooltip": "Init"
      }
     },
     "8021d84fa271492aa7468ab2fadcdb36": {
      "model_module": "@jupyter-widgets/controls",
      "model_module_version": "1.5.0",
      "model_name": "DescriptionStyleModel",
      "state": {
       "description_width": "initial"
      }
     },
     "81baf5cd43f84affb45a303e24aed8ee": {
      "model_module": "@jupyter-widgets/controls",
      "model_module_version": "1.5.0",
      "model_name": "DescriptionStyleModel",
      "state": {
       "description_width": ""
      }
     },
     "82ccf7f6efe9416692a29167e2084bfb": {
      "model_module": "@jupyter-widgets/controls",
      "model_module_version": "1.5.0",
      "model_name": "HTMLModel",
      "state": {
       "layout": "IPY_MODEL_ca7179095659464c87fd655ef75b2f59",
       "style": "IPY_MODEL_60afc31b6a324b7587db119f0a1a6c64",
       "value": "<h1 align=\"center\">AGC Demo</h1>"
      }
     },
     "82fc10a8ebf44ff891f6dbd41ff10d84": {
      "model_module": "@jupyter-widgets/base",
      "model_module_version": "1.2.0",
      "model_name": "LayoutModel",
      "state": {
       "grid_area": "widget006",
       "height": "auto",
       "width": "auto"
      }
     },
     "849305891bae48f682f504e1b756bcbe": {
      "model_module": "@jupyter-widgets/base",
      "model_module_version": "1.2.0",
      "model_name": "LayoutModel",
      "state": {
       "height": "auto"
      }
     },
     "854ae6381a06438b9cb59376d7f6b11a": {
      "model_module": "@jupyter-widgets/base",
      "model_module_version": "1.2.0",
      "model_name": "LayoutModel",
      "state": {
       "grid_template_areas": "\"widget001 widget002 widget003\"\n\"widget004 . .\"\n\"widget005 widget006 widget006\"",
       "grid_template_columns": "repeat(3, 1fr)",
       "grid_template_rows": "repeat(3, 1fr)"
      }
     },
     "85b20203127e4e30b72cf6bf94a07a1f": {
      "model_module": "@jupyter-widgets/base",
      "model_module_version": "1.2.0",
      "model_name": "LayoutModel",
      "state": {
       "grid_area": "widget004"
      }
     },
     "85c19b3ef1474d9d866ab7e78d9d42c4": {
      "model_module": "@jupyter-widgets/controls",
      "model_module_version": "1.5.0",
      "model_name": "DescriptionStyleModel",
      "state": {
       "description_width": "initial"
      }
     },
     "888e053e43204506879c8671130f5d4c": {
      "model_module": "@jupyter-widgets/base",
      "model_module_version": "1.2.0",
      "model_name": "LayoutModel",
      "state": {}
     },
     "88c13773e0a24042af04e379a416216a": {
      "model_module": "@jupyter-widgets/controls",
      "model_module_version": "1.5.0",
      "model_name": "BoundedIntTextModel",
      "state": {
       "description": "Number of samples (n=):",
       "layout": "IPY_MODEL_d2e829d7d9954c028707b1f62770d245",
       "max": 9223372036854776000,
       "min": 1,
       "style": "IPY_MODEL_a5de4231c84842a599492ff55ea47363",
       "value": 1000
      }
     },
     "88d58f3f0a2c4541a78ceafb7ae5bbb1": {
      "model_module": "@jupyter-widgets/base",
      "model_module_version": "1.2.0",
      "model_name": "LayoutModel",
      "state": {}
     },
     "897e720c1e6f49d9bb70afad0da68e9f": {
      "model_module": "@jupyter-widgets/base",
      "model_module_version": "1.2.0",
      "model_name": "LayoutModel",
      "state": {}
     },
     "8c0ff5bc6e0a4b38933b3553d3d82ee8": {
      "model_module": "@jupyter-widgets/base",
      "model_module_version": "1.2.0",
      "model_name": "LayoutModel",
      "state": {}
     },
     "8caa37d460f743a89d9c8c99422c6a23": {
      "model_module": "@jupyter-widgets/base",
      "model_module_version": "1.2.0",
      "model_name": "LayoutModel",
      "state": {}
     },
     "8e6ee72f89f4474286032da1a9aee4f8": {
      "model_module": "@jupyter-widgets/base",
      "model_module_version": "1.2.0",
      "model_name": "LayoutModel",
      "state": {
       "grid_area": "widget004"
      }
     },
     "904f8ce4a5e64d6a9e3203d20b2af439": {
      "model_module": "@jupyter-widgets/base",
      "model_module_version": "1.2.0",
      "model_name": "LayoutModel",
      "state": {}
     },
     "91084c000db04838910bcd7f95b50203": {
      "model_module": "@jupyter-widgets/controls",
      "model_module_version": "1.5.0",
      "model_name": "GridBoxModel",
      "state": {
       "children": [
        "IPY_MODEL_5db36cc70b594a5fa3928c8cb261e993",
        "IPY_MODEL_a40c0c1cf94a4f88940bc559752d4d46",
        "IPY_MODEL_943ebdc779fc424995916167122fabf1",
        "IPY_MODEL_f1560344de774531a10e08c28b335dce",
        "IPY_MODEL_13668b4f746042498a5fd7596a1559d6",
        "IPY_MODEL_bc725026038f4bbabd452e2d38071852"
       ],
       "layout": "IPY_MODEL_854ae6381a06438b9cb59376d7f6b11a"
      }
     },
     "932e02981b3244e1a13928c27441a8ce": {
      "model_module": "@jupyter-widgets/output",
      "model_module_version": "1.0.0",
      "model_name": "OutputModel",
      "state": {
       "layout": "IPY_MODEL_e36861cda17b41a0a4e515e1d388ba4b"
      }
     },
     "943ebdc779fc424995916167122fabf1": {
      "model_module": "@jupyter-widgets/controls",
      "model_module_version": "1.5.0",
      "model_name": "BoundedFloatTextModel",
      "state": {
       "description": "Detector gain:",
       "layout": "IPY_MODEL_4bf3e105f93b44658442caf535741ead",
       "max": 1.7976931348623157e+308,
       "min": 0.01,
       "step": null,
       "style": "IPY_MODEL_ae4218ec447d438fa22e262030a3ef64",
       "value": 0.01
      }
     },
     "943f2d83487e4f88b899c5cb8c83b7fa": {
      "model_module": "@jupyter-widgets/controls",
      "model_module_version": "1.5.0",
      "model_name": "TextareaModel",
      "state": {
       "continuous_update": false,
       "description": "Signal (sig=):",
       "layout": "IPY_MODEL_20d3eb04c0674aaa8f3d782a30a52d4e",
       "style": "IPY_MODEL_0534fd5e00a046e7b6ad2fbe30c2bc5b",
       "value": "sig = np.cos(2 * np.pi * n / 8)"
      }
     },
     "94bdc7cb3eae42c6a66e82a65aeda6c6": {
      "model_module": "@jupyter-widgets/controls",
      "model_module_version": "1.5.0",
      "model_name": "ButtonStyleModel",
      "state": {}
     },
     "95bf87e27cf545d092933511127c05fd": {
      "model_module": "@jupyter-widgets/controls",
      "model_module_version": "1.5.0",
      "model_name": "VBoxModel",
      "state": {
       "children": [
        "IPY_MODEL_f3668ce9d7a74b5990dafbb825ea15f5",
        "IPY_MODEL_1e53b6f306314467ac24303c0f2f7b1e"
       ],
       "layout": "IPY_MODEL_7466481d7be8432cb410034ac4aecc65"
      }
     },
     "9612674a8137415f9f673881df4dd1a1": {
      "model_module": "@jupyter-widgets/controls",
      "model_module_version": "1.5.0",
      "model_name": "DescriptionStyleModel",
      "state": {
       "description_width": "initial"
      }
     },
     "97066a0bbee04ecf894cbd3aa15897e6": {
      "model_module": "@jupyter-widgets/controls",
      "model_module_version": "1.5.0",
      "model_name": "BoundedFloatTextModel",
      "state": {
       "description": "Max gain (dB):",
       "layout": "IPY_MODEL_5ba30ae79be74bae9774d15864c90efe",
       "max": 1.7976931348623157e+308,
       "step": null,
       "style": "IPY_MODEL_85c19b3ef1474d9d866ab7e78d9d42c4",
       "value": 60
      }
     },
     "97b13ae46c9f4fa9a399e8149eff82f5": {
      "model_module": "@jupyter-widgets/base",
      "model_module_version": "1.2.0",
      "model_name": "LayoutModel",
      "state": {
       "grid_area": "widget004"
      }
     },
     "98fa8ac4c94f4c439cfa81f6a078ec4c": {
      "model_module": "@jupyter-widgets/base",
      "model_module_version": "1.2.0",
      "model_name": "LayoutModel",
      "state": {
       "grid_area": "widget001"
      }
     },
     "9a57f8cc108244479db82dcea518fa78": {
      "model_module": "jupyter-matplotlib",
      "model_module_version": "^0.7.2",
      "model_name": "ToolbarModel",
      "state": {
       "layout": "IPY_MODEL_904f8ce4a5e64d6a9e3203d20b2af439",
       "toolitems": [
        [
         "Home",
         "Reset original view",
         "home",
         "home"
        ],
        [
         "Back",
         "Back to previous view",
         "arrow-left",
         "back"
        ],
        [
         "Forward",
         "Forward to next view",
         "arrow-right",
         "forward"
        ],
        [
         "Pan",
         "Pan axes with left mouse, zoom with right",
         "arrows",
         "pan"
        ],
        [
         "Zoom",
         "Zoom to rectangle",
         "square-o",
         "zoom"
        ],
        [
         "Download",
         "Download plot",
         "floppy-o",
         "save_figure"
        ]
       ]
      }
     },
     "9d22318098274cf9b341cebf4d8d2a23": {
      "model_module": "@jupyter-widgets/output",
      "model_module_version": "1.0.0",
      "model_name": "OutputModel",
      "state": {
       "layout": "IPY_MODEL_897e720c1e6f49d9bb70afad0da68e9f"
      }
     },
     "9db02d714ed34a0b92596f2b223419ef": {
      "model_module": "@jupyter-widgets/controls",
      "model_module_version": "1.5.0",
      "model_name": "BoundedFloatTextModel",
      "state": {
       "description": "Max gain (dB):",
       "layout": "IPY_MODEL_71a0e692bad14a4f9b1225f96b753374",
       "max": 1.7976931348623157e+308,
       "step": null,
       "style": "IPY_MODEL_f031e4c5da4b4ec2aa02600e9b64caeb",
       "value": 60
      }
     },
     "9dbf40ac0bf24d8c8e9d1c67db82c48a": {
      "model_module": "@jupyter-widgets/base",
      "model_module_version": "1.2.0",
      "model_name": "LayoutModel",
      "state": {}
     },
     "9dfb5a405bc34ed48fc08d854f300674": {
      "model_module": "@jupyter-widgets/controls",
      "model_module_version": "1.5.0",
      "model_name": "ButtonStyleModel",
      "state": {}
     },
     "9ed4218a4cfc4088a60c5118b1221328": {
      "model_module": "@jupyter-widgets/controls",
      "model_module_version": "1.5.0",
      "model_name": "ButtonModel",
      "state": {
       "description": "Init",
       "layout": "IPY_MODEL_4dc1be42bf514b9ab6e28af31044e470",
       "style": "IPY_MODEL_e03f75331e674f36ba8f8069822b6b99",
       "tooltip": "Init"
      }
     },
     "a031fb02cb064716a67ee18a28b07801": {
      "model_module": "@jupyter-widgets/controls",
      "model_module_version": "1.5.0",
      "model_name": "BoundedIntTextModel",
      "state": {
       "description": "Number of samples (n=):",
       "layout": "IPY_MODEL_b573612b7efa4daaa5b554da8e8763e2",
       "max": 9223372036854776000,
       "min": 1,
       "style": "IPY_MODEL_4eb132d18db54fab8ce0583364f158c5",
       "value": 1000
      }
     },
     "a0db05293de04685841f7902db543684": {
      "model_module": "@jupyter-widgets/base",
      "model_module_version": "1.2.0",
      "model_name": "LayoutModel",
      "state": {}
     },
     "a40c0c1cf94a4f88940bc559752d4d46": {
      "model_module": "@jupyter-widgets/controls",
      "model_module_version": "1.5.0",
      "model_name": "BoundedFloatTextModel",
      "state": {
       "description": "Max gain (dB):",
       "layout": "IPY_MODEL_3003570e0e92410ea3fbc4d268794695",
       "max": 1.7976931348623157e+308,
       "step": null,
       "style": "IPY_MODEL_c198032865fc449f8d83f3ba7fc7ebdb",
       "value": 60
      }
     },
     "a4244554d370434088cc361ca7f35a26": {
      "model_module": "@jupyter-widgets/controls",
      "model_module_version": "1.5.0",
      "model_name": "ButtonModel",
      "state": {
       "description": "Init",
       "layout": "IPY_MODEL_2fbcb69189774c1d84e2495a8bf31e80",
       "style": "IPY_MODEL_0166018bbe9f483da6db7a42ab6b8662",
       "tooltip": "Init"
      }
     },
     "a4616d815b9c4d06a67190c8c21a2603": {
      "model_module": "@jupyter-widgets/controls",
      "model_module_version": "1.5.0",
      "model_name": "DescriptionStyleModel",
      "state": {
       "description_width": ""
      }
     },
     "a4ee2b78fa5e45978fbb3e5f3ea61811": {
      "model_module": "@jupyter-widgets/controls",
      "model_module_version": "1.5.0",
      "model_name": "DescriptionStyleModel",
      "state": {
       "description_width": "initial"
      }
     },
     "a5de4231c84842a599492ff55ea47363": {
      "model_module": "@jupyter-widgets/controls",
      "model_module_version": "1.5.0",
      "model_name": "DescriptionStyleModel",
      "state": {
       "description_width": "initial"
      }
     },
     "a8ab5113c19f4e01971a1c1e8541f9a1": {
      "model_module": "@jupyter-widgets/base",
      "model_module_version": "1.2.0",
      "model_name": "LayoutModel",
      "state": {
       "grid_area": "widget006",
       "height": "auto",
       "width": "auto"
      }
     },
     "ac17639f540f4ecaa2418d9d62f8339d": {
      "model_module": "@jupyter-widgets/base",
      "model_module_version": "1.2.0",
      "model_name": "LayoutModel",
      "state": {}
     },
     "ac789740ed88404b93eaf75b6cd1485e": {
      "model_module": "@jupyter-widgets/base",
      "model_module_version": "1.2.0",
      "model_name": "LayoutModel",
      "state": {
       "grid_area": "widget005"
      }
     },
     "acb83d4bddb14951ac35c0b20e714a51": {
      "model_module": "@jupyter-widgets/controls",
      "model_module_version": "1.5.0",
      "model_name": "DescriptionStyleModel",
      "state": {
       "description_width": "initial"
      }
     },
     "ae4218ec447d438fa22e262030a3ef64": {
      "model_module": "@jupyter-widgets/controls",
      "model_module_version": "1.5.0",
      "model_name": "DescriptionStyleModel",
      "state": {
       "description_width": "initial"
      }
     },
     "b0ab00a3a5794192a94df1cc21eef79c": {
      "model_module": "@jupyter-widgets/controls",
      "model_module_version": "1.5.0",
      "model_name": "HBoxModel",
      "state": {
       "children": [
        "IPY_MODEL_9ed4218a4cfc4088a60c5118b1221328",
        "IPY_MODEL_e384ce38c44a433e941fecea38cd4f4e"
       ],
       "layout": "IPY_MODEL_54c6cc2b681b4456a0ac42ba7d66aa8a"
      }
     },
     "b22bb0ae34bc4a739ce1e842932bde6b": {
      "model_module": "@jupyter-widgets/controls",
      "model_module_version": "1.5.0",
      "model_name": "DescriptionStyleModel",
      "state": {
       "description_width": "initial"
      }
     },
     "b573612b7efa4daaa5b554da8e8763e2": {
      "model_module": "@jupyter-widgets/base",
      "model_module_version": "1.2.0",
      "model_name": "LayoutModel",
      "state": {
       "grid_area": "widget005"
      }
     },
     "b5be181b6edf48f69bfef6cbdd43abc7": {
      "model_module": "@jupyter-widgets/base",
      "model_module_version": "1.2.0",
      "model_name": "LayoutModel",
      "state": {
       "grid_area": "widget006",
       "height": "auto",
       "width": "auto"
      }
     },
     "b6053f71df57472d9e161bc3fdd97e4b": {
      "model_module": "@jupyter-widgets/controls",
      "model_module_version": "1.5.0",
      "model_name": "TextareaModel",
      "state": {
       "continuous_update": false,
       "description": "Signal (sig=):",
       "layout": "IPY_MODEL_6292d89831074e12998317b0ab390e64",
       "style": "IPY_MODEL_a4ee2b78fa5e45978fbb3e5f3ea61811",
       "value": "sig = np.cos(2 * np.pi * n / 8)"
      }
     },
     "b6b08a61765540d49ba079e2cc3e817f": {
      "model_module": "@jupyter-widgets/controls",
      "model_module_version": "1.5.0",
      "model_name": "DescriptionStyleModel",
      "state": {
       "description_width": "initial"
      }
     },
     "b80555fb654c4f588b5ceae2c18d8a9f": {
      "model_module": "@jupyter-widgets/controls",
      "model_module_version": "1.5.0",
      "model_name": "ButtonModel",
      "state": {
       "description": "Init",
       "layout": "IPY_MODEL_358d1993df694d279f5feca96933e0c0",
       "style": "IPY_MODEL_1bf207a04a92439aa15a38365d525754",
       "tooltip": "Init"
      }
     },
     "b837d90b03f044fb9e90ced841751eba": {
      "model_module": "@jupyter-widgets/base",
      "model_module_version": "1.2.0",
      "model_name": "LayoutModel",
      "state": {
       "grid_area": "widget003"
      }
     },
     "b86e8bb04adb48608b1f11d1615be868": {
      "model_module": "@jupyter-widgets/controls",
      "model_module_version": "1.5.0",
      "model_name": "DescriptionStyleModel",
      "state": {
       "description_width": ""
      }
     },
     "b8bc6b4f33a44cccb6c53dc589828877": {
      "model_module": "jupyter-matplotlib",
      "model_module_version": "^0.7.2",
      "model_name": "MPLCanvasModel",
      "state": {
       "_cursor": "default",
       "_figure_label": "Figure 3",
       "_height": 480,
       "_width": 640,
       "layout": "IPY_MODEL_fdd3d40d0ee045b1b8a34dbd3ac119a5",
       "toolbar": "IPY_MODEL_3f79a3b4827a4feab63ecbc654f7a5cc",
       "toolbar_position": "left"
      }
     },
     "b8c0551ab2704681961994b5dbf592ba": {
      "model_module": "@jupyter-widgets/base",
      "model_module_version": "1.2.0",
      "model_name": "LayoutModel",
      "state": {
       "height": "auto"
      }
     },
     "b98ae80f94574c91b7fb55ffbbdde32b": {
      "model_module": "@jupyter-widgets/controls",
      "model_module_version": "1.5.0",
      "model_name": "DescriptionStyleModel",
      "state": {
       "description_width": "initial"
      }
     },
     "b9fdfa517fa440969e9a3f0318ff67f9": {
      "model_module": "@jupyter-widgets/base",
      "model_module_version": "1.2.0",
      "model_name": "LayoutModel",
      "state": {
       "grid_area": "widget005"
      }
     },
     "bc11cced78644e2195710988b86d62ed": {
      "model_module": "jupyter-matplotlib",
      "model_module_version": "^0.7.2",
      "model_name": "ToolbarModel",
      "state": {
       "layout": "IPY_MODEL_fe364a39a0bb4e87b2307b33d18afc47",
       "toolitems": [
        [
         "Home",
         "Reset original view",
         "home",
         "home"
        ],
        [
         "Back",
         "Back to previous view",
         "arrow-left",
         "back"
        ],
        [
         "Forward",
         "Forward to next view",
         "arrow-right",
         "forward"
        ],
        [
         "Pan",
         "Pan axes with left mouse, zoom with right",
         "arrows",
         "pan"
        ],
        [
         "Zoom",
         "Zoom to rectangle",
         "square-o",
         "zoom"
        ],
        [
         "Download",
         "Download plot",
         "floppy-o",
         "save_figure"
        ]
       ]
      }
     },
     "bc3d9717a8484a5d91d88e2d6a1cad73": {
      "model_module": "@jupyter-widgets/base",
      "model_module_version": "1.2.0",
      "model_name": "LayoutModel",
      "state": {}
     },
     "bc725026038f4bbabd452e2d38071852": {
      "model_module": "@jupyter-widgets/controls",
      "model_module_version": "1.5.0",
      "model_name": "TextareaModel",
      "state": {
       "continuous_update": false,
       "description": "Signal (sig=):",
       "layout": "IPY_MODEL_3555ba8df2c544fc884199d55782e2b8",
       "style": "IPY_MODEL_3a6152f6de9d4ebfb69156539e191850",
       "value": "sig = np.cos(2 * np.pi * n / 8)"
      }
     },
     "bcb3e7d63017412db0794159a627b0bd": {
      "model_module": "@jupyter-widgets/controls",
      "model_module_version": "1.5.0",
      "model_name": "BoundedFloatTextModel",
      "state": {
       "description": "Detector gain:",
       "layout": "IPY_MODEL_2d5caf3325da430eb44d23ce1df3c207",
       "max": 1.7976931348623157e+308,
       "min": 0.01,
       "step": null,
       "style": "IPY_MODEL_1aeef7e31c5d4e05a62e24189daa3aca",
       "value": 0.01
      }
     },
     "c0bae02fef4b44aa816100b313798c9d": {
      "model_module": "@jupyter-widgets/controls",
      "model_module_version": "1.5.0",
      "model_name": "VBoxModel",
      "state": {
       "children": [
        "IPY_MODEL_f85af19bd81641188549c6a9189ceb7e",
        "IPY_MODEL_06766b2cf2cd40d7b81b2f085f4c9e4f"
       ],
       "layout": "IPY_MODEL_8caa37d460f743a89d9c8c99422c6a23"
      }
     },
     "c0ebf75b3bb941e1903032f0f29a3c91": {
      "model_module": "@jupyter-widgets/base",
      "model_module_version": "1.2.0",
      "model_name": "LayoutModel",
      "state": {}
     },
     "c0fdbd565029419ba91831ac5a40f510": {
      "model_module": "@jupyter-widgets/base",
      "model_module_version": "1.2.0",
      "model_name": "LayoutModel",
      "state": {
       "height": "auto"
      }
     },
     "c198032865fc449f8d83f3ba7fc7ebdb": {
      "model_module": "@jupyter-widgets/controls",
      "model_module_version": "1.5.0",
      "model_name": "DescriptionStyleModel",
      "state": {
       "description_width": "initial"
      }
     },
     "c30759df94a94640bd756e0d78093ad4": {
      "model_module": "@jupyter-widgets/controls",
      "model_module_version": "1.5.0",
      "model_name": "DescriptionStyleModel",
      "state": {
       "description_width": "initial"
      }
     },
     "c4c6268db5d44bd2ac5954fbf522c2c9": {
      "model_module": "@jupyter-widgets/controls",
      "model_module_version": "1.5.0",
      "model_name": "BoundedIntTextModel",
      "state": {
       "description": "Averaging length (samples):",
       "layout": "IPY_MODEL_3125cbc464744954ad612165d3dc3143",
       "max": 9223372036854776000,
       "min": 1,
       "style": "IPY_MODEL_c30759df94a94640bd756e0d78093ad4",
       "value": 100
      }
     },
     "c589d3a6128f4a91bb020790f0377f39": {
      "model_module": "@jupyter-widgets/output",
      "model_module_version": "1.0.0",
      "model_name": "OutputModel",
      "state": {
       "layout": "IPY_MODEL_bc3d9717a8484a5d91d88e2d6a1cad73"
      }
     },
     "c5d90967cc76448f9bf2b5ae8df10a96": {
      "model_module": "@jupyter-widgets/controls",
      "model_module_version": "1.5.0",
      "model_name": "TextareaModel",
      "state": {
       "continuous_update": false,
       "description": "Signal (sig=):",
       "layout": "IPY_MODEL_b5be181b6edf48f69bfef6cbdd43abc7",
       "style": "IPY_MODEL_d480ca94773b4fac8f52a14de6233522",
       "value": "sig = np.cos(2 * np.pi * n / 8)"
      }
     },
     "c6125ca59f4d44e49e1e62d400e020d1": {
      "model_module": "@jupyter-widgets/base",
      "model_module_version": "1.2.0",
      "model_name": "LayoutModel",
      "state": {}
     },
     "c8eb972aafcc4fec8ca606643c6fa485": {
      "model_module": "@jupyter-widgets/base",
      "model_module_version": "1.2.0",
      "model_name": "LayoutModel",
      "state": {
       "grid_template_areas": "\"widget001 widget002 widget003\"\n\"widget004 . .\"\n\"widget005 widget006 widget006\"",
       "grid_template_columns": "repeat(3, 1fr)",
       "grid_template_rows": "repeat(3, 1fr)"
      }
     },
     "ca7179095659464c87fd655ef75b2f59": {
      "model_module": "@jupyter-widgets/base",
      "model_module_version": "1.2.0",
      "model_name": "LayoutModel",
      "state": {
       "height": "auto"
      }
     },
     "ca77e7587d33429ba0e1d4888bad1168": {
      "model_module": "@jupyter-widgets/controls",
      "model_module_version": "1.5.0",
      "model_name": "ButtonStyleModel",
      "state": {}
     },
     "cc1279b0188f4b09bbd14eee26134b32": {
      "model_module": "@jupyter-widgets/controls",
      "model_module_version": "1.5.0",
      "model_name": "BoundedFloatTextModel",
      "state": {
       "description": "Detector gain:",
       "layout": "IPY_MODEL_b837d90b03f044fb9e90ced841751eba",
       "max": 1.7976931348623157e+308,
       "min": 0.01,
       "step": null,
       "style": "IPY_MODEL_f35d85aa58a94c09a4f4b344da57f4af",
       "value": 0.01
      }
     },
     "ccf02669d2a6486b9da574f8d994b62f": {
      "model_module": "@jupyter-widgets/controls",
      "model_module_version": "1.5.0",
      "model_name": "VBoxModel",
      "state": {
       "children": [
        "IPY_MODEL_7af755e946e34768b200f567ce4381fd",
        "IPY_MODEL_18417513f4f949709b2d52d12f2ea87a"
       ],
       "layout": "IPY_MODEL_c0ebf75b3bb941e1903032f0f29a3c91"
      }
     },
     "cd2caa5e5b404614a707ae04c34f6184": {
      "model_module": "@jupyter-widgets/controls",
      "model_module_version": "1.5.0",
      "model_name": "ButtonStyleModel",
      "state": {}
     },
     "cd954ed3ab4a4a879baf2fc03b7e1bce": {
      "model_module": "@jupyter-widgets/base",
      "model_module_version": "1.2.0",
      "model_name": "LayoutModel",
      "state": {}
     },
     "cd99b8159335416a99b2a25ecb1867b7": {
      "model_module": "@jupyter-widgets/base",
      "model_module_version": "1.2.0",
      "model_name": "LayoutModel",
      "state": {}
     },
     "cfe5c63394524a878d0d481d3cee8f12": {
      "model_module": "@jupyter-widgets/controls",
      "model_module_version": "1.5.0",
      "model_name": "HTMLModel",
      "state": {
       "layout": "IPY_MODEL_061e1c49e024479880f8566ceac7701d",
       "style": "IPY_MODEL_a4616d815b9c4d06a67190c8c21a2603",
       "value": "<h1 align=\"center\">AGC Demo</h1>"
      }
     },
     "d0507205fc1a4231b641a7e06ce9bf23": {
      "model_module": "@jupyter-widgets/controls",
      "model_module_version": "1.5.0",
      "model_name": "BoundedFloatTextModel",
      "state": {
       "description": "Reference power:",
       "layout": "IPY_MODEL_dca1c71739214eecb8115d8a734ea1d0",
       "max": 1.7976931348623157e+308,
       "step": null,
       "style": "IPY_MODEL_f054cdde4bc84bc4bbc1d4b2aa273dd5",
       "value": 1
      }
     },
     "d2cabd8e67a244398e069a6de33f0312": {
      "model_module": "@jupyter-widgets/controls",
      "model_module_version": "1.5.0",
      "model_name": "BoundedIntTextModel",
      "state": {
       "description": "Number of samples (n=):",
       "layout": "IPY_MODEL_ac789740ed88404b93eaf75b6cd1485e",
       "max": 9223372036854776000,
       "min": 1,
       "style": "IPY_MODEL_f70290a101b1482496c9e5d7cf2b0974",
       "value": 1000
      }
     },
     "d2e829d7d9954c028707b1f62770d245": {
      "model_module": "@jupyter-widgets/base",
      "model_module_version": "1.2.0",
      "model_name": "LayoutModel",
      "state": {
       "grid_area": "widget005"
      }
     },
     "d33faada81a646fdb1f51e912c038be3": {
      "model_module": "@jupyter-widgets/controls",
      "model_module_version": "1.5.0",
      "model_name": "DescriptionStyleModel",
      "state": {
       "description_width": "initial"
      }
     },
     "d3a5c0404a5940d683388e1c29263c52": {
      "model_module": "@jupyter-widgets/base",
      "model_module_version": "1.2.0",
      "model_name": "LayoutModel",
      "state": {}
     },
     "d45931a59de94fcd8105552e5b5f12b0": {
      "model_module": "@jupyter-widgets/base",
      "model_module_version": "1.2.0",
      "model_name": "LayoutModel",
      "state": {}
     },
     "d480ca94773b4fac8f52a14de6233522": {
      "model_module": "@jupyter-widgets/controls",
      "model_module_version": "1.5.0",
      "model_name": "DescriptionStyleModel",
      "state": {
       "description_width": "initial"
      }
     },
     "d4a572bacf8c4835b0ec8c6957ba919f": {
      "model_module": "@jupyter-widgets/base",
      "model_module_version": "1.2.0",
      "model_name": "LayoutModel",
      "state": {
       "grid_area": "widget001"
      }
     },
     "d5891f85ff6041c2a5b85f40b63b822f": {
      "model_module": "@jupyter-widgets/controls",
      "model_module_version": "1.5.0",
      "model_name": "DescriptionStyleModel",
      "state": {
       "description_width": "initial"
      }
     },
     "d5a07038c63549aaaefde89792f57dca": {
      "model_module": "@jupyter-widgets/controls",
      "model_module_version": "1.5.0",
      "model_name": "BoundedIntTextModel",
      "state": {
       "description": "Averaging length (samples):",
       "layout": "IPY_MODEL_105c868746954582bef5ccaa0ab83c3e",
       "max": 9223372036854776000,
       "min": 1,
       "style": "IPY_MODEL_47d699f64c79427fa7daaacaa186c99e",
       "value": 100
      }
     },
     "d66e1ee05d5b416dbc51075aeb1f2b08": {
      "model_module": "@jupyter-widgets/controls",
      "model_module_version": "1.5.0",
      "model_name": "ButtonStyleModel",
      "state": {}
     },
     "d7ef23c41b604cfda327821c0c2fe429": {
      "model_module": "@jupyter-widgets/controls",
      "model_module_version": "1.5.0",
      "model_name": "DescriptionStyleModel",
      "state": {
       "description_width": ""
      }
     },
     "dbc595e6c073450fbc167a8e9605d9d4": {
      "model_module": "@jupyter-widgets/base",
      "model_module_version": "1.2.0",
      "model_name": "LayoutModel",
      "state": {}
     },
     "dca1c71739214eecb8115d8a734ea1d0": {
      "model_module": "@jupyter-widgets/base",
      "model_module_version": "1.2.0",
      "model_name": "LayoutModel",
      "state": {
       "grid_area": "widget001"
      }
     },
     "dd28c2d0c5d04c58b9a243cc9bbe303d": {
      "model_module": "@jupyter-widgets/base",
      "model_module_version": "1.2.0",
      "model_name": "LayoutModel",
      "state": {}
     },
     "dd820a6f746d42199a3b732e09516eff": {
      "model_module": "@jupyter-widgets/controls",
      "model_module_version": "1.5.0",
      "model_name": "HTMLModel",
      "state": {
       "layout": "IPY_MODEL_6fb2efa1a65c4efd827a937d6f06ac8e",
       "style": "IPY_MODEL_b86e8bb04adb48608b1f11d1615be868",
       "value": "<h1 align=\"center\">AGC Demo</h1>"
      }
     },
     "de0cc1bb91ce4f76b3313fa86ce3ffab": {
      "model_module": "@jupyter-widgets/base",
      "model_module_version": "1.2.0",
      "model_name": "LayoutModel",
      "state": {}
     },
     "de80a79594154f428b891d7152714499": {
      "model_module": "@jupyter-widgets/controls",
      "model_module_version": "1.5.0",
      "model_name": "DescriptionStyleModel",
      "state": {
       "description_width": "initial"
      }
     },
     "dee907b624784d7abffb80a810c2b333": {
      "model_module": "@jupyter-widgets/controls",
      "model_module_version": "1.5.0",
      "model_name": "BoundedIntTextModel",
      "state": {
       "description": "Number of samples (n=):",
       "layout": "IPY_MODEL_1f52f3263cf4405bb8f368d391d84fc3",
       "max": 9223372036854776000,
       "min": 1,
       "style": "IPY_MODEL_ff333c9b6f23408d9309fccf8dc317a2",
       "value": 1000
      }
     },
     "df08ab7656d944ba83ee1f5f5f865e24": {
      "model_module": "@jupyter-widgets/base",
      "model_module_version": "1.2.0",
      "model_name": "LayoutModel",
      "state": {
       "grid_area": "widget003"
      }
     },
     "e03f75331e674f36ba8f8069822b6b99": {
      "model_module": "@jupyter-widgets/controls",
      "model_module_version": "1.5.0",
      "model_name": "ButtonStyleModel",
      "state": {}
     },
     "e055caa7b233434c895574e13ccde000": {
      "model_module": "@jupyter-widgets/base",
      "model_module_version": "1.2.0",
      "model_name": "LayoutModel",
      "state": {
       "grid_area": "widget002"
      }
     },
     "e36861cda17b41a0a4e515e1d388ba4b": {
      "model_module": "@jupyter-widgets/base",
      "model_module_version": "1.2.0",
      "model_name": "LayoutModel",
      "state": {}
     },
     "e384ce38c44a433e941fecea38cd4f4e": {
      "model_module": "@jupyter-widgets/controls",
      "model_module_version": "1.5.0",
      "model_name": "ButtonModel",
      "state": {
       "description": "Execute",
       "layout": "IPY_MODEL_d45931a59de94fcd8105552e5b5f12b0",
       "style": "IPY_MODEL_94bdc7cb3eae42c6a66e82a65aeda6c6",
       "tooltip": "Execute"
      }
     },
     "e55e1478723343b58d83e34730526973": {
      "model_module": "@jupyter-widgets/base",
      "model_module_version": "1.2.0",
      "model_name": "LayoutModel",
      "state": {
       "grid_area": "widget003"
      }
     },
     "e97fad8dbfb3445da9fe54368345e40a": {
      "model_module": "jupyter-matplotlib",
      "model_module_version": "^0.7.2",
      "model_name": "ToolbarModel",
      "state": {
       "layout": "IPY_MODEL_79f7316824944293b022056c520155ed",
       "toolitems": [
        [
         "Home",
         "Reset original view",
         "home",
         "home"
        ],
        [
         "Back",
         "Back to previous view",
         "arrow-left",
         "back"
        ],
        [
         "Forward",
         "Forward to next view",
         "arrow-right",
         "forward"
        ],
        [
         "Pan",
         "Pan axes with left mouse, zoom with right",
         "arrows",
         "pan"
        ],
        [
         "Zoom",
         "Zoom to rectangle",
         "square-o",
         "zoom"
        ],
        [
         "Download",
         "Download plot",
         "floppy-o",
         "save_figure"
        ]
       ]
      }
     },
     "ed1d7f328e814e4c8223fb0ca5a05e59": {
      "model_module": "@jupyter-widgets/base",
      "model_module_version": "1.2.0",
      "model_name": "LayoutModel",
      "state": {}
     },
     "ee01beb4f31c4eb9a69ea409c1eaa4a5": {
      "model_module": "@jupyter-widgets/controls",
      "model_module_version": "1.5.0",
      "model_name": "BoundedIntTextModel",
      "state": {
       "description": "Averaging length (samples):",
       "layout": "IPY_MODEL_97b13ae46c9f4fa9a399e8149eff82f5",
       "max": 9223372036854776000,
       "min": 1,
       "style": "IPY_MODEL_b22bb0ae34bc4a739ce1e842932bde6b",
       "value": 100
      }
     },
     "f027dc2cd80e42e1b85eb360058b73e9": {
      "model_module": "@jupyter-widgets/controls",
      "model_module_version": "1.5.0",
      "model_name": "DescriptionStyleModel",
      "state": {
       "description_width": "initial"
      }
     },
     "f031e4c5da4b4ec2aa02600e9b64caeb": {
      "model_module": "@jupyter-widgets/controls",
      "model_module_version": "1.5.0",
      "model_name": "DescriptionStyleModel",
      "state": {
       "description_width": "initial"
      }
     },
     "f054cdde4bc84bc4bbc1d4b2aa273dd5": {
      "model_module": "@jupyter-widgets/controls",
      "model_module_version": "1.5.0",
      "model_name": "DescriptionStyleModel",
      "state": {
       "description_width": "initial"
      }
     },
     "f07ab0dfb6f843dea264ed0cbff93253": {
      "model_module": "@jupyter-widgets/controls",
      "model_module_version": "1.5.0",
      "model_name": "BoundedFloatTextModel",
      "state": {
       "description": "Detector gain:",
       "layout": "IPY_MODEL_163ac4ecbd4f4770a8b194048478e990",
       "max": 1.7976931348623157e+308,
       "min": 0.01,
       "step": null,
       "style": "IPY_MODEL_1c7bdc0999644d11a510245d1bb4ce6e",
       "value": 0.01
      }
     },
     "f1560344de774531a10e08c28b335dce": {
      "model_module": "@jupyter-widgets/controls",
      "model_module_version": "1.5.0",
      "model_name": "BoundedIntTextModel",
      "state": {
       "description": "Averaging length (samples):",
       "layout": "IPY_MODEL_85b20203127e4e30b72cf6bf94a07a1f",
       "max": 9223372036854776000,
       "min": 1,
       "style": "IPY_MODEL_5c7d3b6a7baf40da9bd9f07f59d88bc0",
       "value": 100
      }
     },
     "f24b3c805c2947fe9a1abaffe935928f": {
      "model_module": "@jupyter-widgets/controls",
      "model_module_version": "1.5.0",
      "model_name": "BoundedFloatTextModel",
      "state": {
       "description": "Detector gain:",
       "layout": "IPY_MODEL_e55e1478723343b58d83e34730526973",
       "max": 1.7976931348623157e+308,
       "min": 0.01,
       "step": null,
       "style": "IPY_MODEL_b98ae80f94574c91b7fb55ffbbdde32b",
       "value": 0.01
      }
     },
     "f35d85aa58a94c09a4f4b344da57f4af": {
      "model_module": "@jupyter-widgets/controls",
      "model_module_version": "1.5.0",
      "model_name": "DescriptionStyleModel",
      "state": {
       "description_width": "initial"
      }
     },
     "f3668ce9d7a74b5990dafbb825ea15f5": {
      "model_module": "@jupyter-widgets/controls",
      "model_module_version": "1.5.0",
      "model_name": "GridBoxModel",
      "state": {
       "children": [
        "IPY_MODEL_d0507205fc1a4231b641a7e06ce9bf23",
        "IPY_MODEL_6d53a9e2b17c44c6bfff8cfa1a64a3b1",
        "IPY_MODEL_f24b3c805c2947fe9a1abaffe935928f",
        "IPY_MODEL_0a3ed0041d3c4456ab55aff330c710f2",
        "IPY_MODEL_88c13773e0a24042af04e379a416216a",
        "IPY_MODEL_b6053f71df57472d9e161bc3fdd97e4b"
       ],
       "layout": "IPY_MODEL_7a9a098b7774447f834422b048c35474"
      }
     },
     "f43bd8930a4a4b6aaf8c033f6d56d300": {
      "model_module": "@jupyter-widgets/base",
      "model_module_version": "1.2.0",
      "model_name": "LayoutModel",
      "state": {
       "grid_area": "widget002"
      }
     },
     "f585e5cd5e0748f9af4ab3605b7f1d61": {
      "model_module": "@jupyter-widgets/controls",
      "model_module_version": "1.5.0",
      "model_name": "DescriptionStyleModel",
      "state": {
       "description_width": "initial"
      }
     },
     "f5af39faf4884ae1ace351b22b533fdb": {
      "model_module": "@jupyter-widgets/controls",
      "model_module_version": "1.5.0",
      "model_name": "ButtonModel",
      "state": {
       "description": "Execute",
       "layout": "IPY_MODEL_d3a5c0404a5940d683388e1c29263c52",
       "style": "IPY_MODEL_d66e1ee05d5b416dbc51075aeb1f2b08",
       "tooltip": "Execute"
      }
     },
     "f69950cd0840422fb3bed4b9b482a0e8": {
      "model_module": "@jupyter-widgets/controls",
      "model_module_version": "1.5.0",
      "model_name": "BoundedIntTextModel",
      "state": {
       "description": "Number of samples (n=):",
       "layout": "IPY_MODEL_2f37e0fb416e45a1a507fb6e428e67a5",
       "max": 9223372036854776000,
       "min": 1,
       "style": "IPY_MODEL_b6b08a61765540d49ba079e2cc3e817f",
       "value": 1000
      }
     },
     "f70290a101b1482496c9e5d7cf2b0974": {
      "model_module": "@jupyter-widgets/controls",
      "model_module_version": "1.5.0",
      "model_name": "DescriptionStyleModel",
      "state": {
       "description_width": "initial"
      }
     },
     "f757f781472647029f15f3a5f1a25748": {
      "model_module": "@jupyter-widgets/controls",
      "model_module_version": "1.5.0",
      "model_name": "VBoxModel",
      "state": {
       "children": [
        "IPY_MODEL_63d10e38a92d47fba46379c8db614ff4",
        "IPY_MODEL_0785f8c23cf343f0b4d11e285743717f"
       ],
       "layout": "IPY_MODEL_dd28c2d0c5d04c58b9a243cc9bbe303d"
      }
     },
     "f85af19bd81641188549c6a9189ceb7e": {
      "model_module": "@jupyter-widgets/controls",
      "model_module_version": "1.5.0",
      "model_name": "GridBoxModel",
      "state": {
       "children": [
        "IPY_MODEL_3df6bfb9d6b34ab788e52f5da5c5c049",
        "IPY_MODEL_4f3eb3e0206245cdb4d71c4578ce3af7",
        "IPY_MODEL_cc1279b0188f4b09bbd14eee26134b32",
        "IPY_MODEL_ee01beb4f31c4eb9a69ea409c1eaa4a5",
        "IPY_MODEL_f69950cd0840422fb3bed4b9b482a0e8",
        "IPY_MODEL_943f2d83487e4f88b899c5cb8c83b7fa"
       ],
       "layout": "IPY_MODEL_6a7848a9528e4bca9d81a83ce8ac7644"
      }
     },
     "f8aabc6f925c4795ba23578bdf025f6d": {
      "model_module": "@jupyter-widgets/controls",
      "model_module_version": "1.5.0",
      "model_name": "HTMLModel",
      "state": {
       "layout": "IPY_MODEL_b8c0551ab2704681961994b5dbf592ba",
       "style": "IPY_MODEL_5112709c800a40029c6991b3f4143227",
       "value": "<h1 align=\"center\">AGC Demo</h1>"
      }
     },
     "fa96555e6e4542249e0839d04f104832": {
      "model_module": "@jupyter-widgets/controls",
      "model_module_version": "1.5.0",
      "model_name": "VBoxModel",
      "state": {
       "children": [
        "IPY_MODEL_91084c000db04838910bcd7f95b50203",
        "IPY_MODEL_b0ab00a3a5794192a94df1cc21eef79c",
        "IPY_MODEL_15f54da973344142bac988af0e9e4c8a"
       ],
       "layout": "IPY_MODEL_fb6d25d44d1e4aee93ef66acec42c6b5"
      }
     },
     "fb6d25d44d1e4aee93ef66acec42c6b5": {
      "model_module": "@jupyter-widgets/base",
      "model_module_version": "1.2.0",
      "model_name": "LayoutModel",
      "state": {}
     },
     "fb7f05caa0e748868678a37fc40e3825": {
      "model_module": "@jupyter-widgets/base",
      "model_module_version": "1.2.0",
      "model_name": "LayoutModel",
      "state": {}
     },
     "fdd3d40d0ee045b1b8a34dbd3ac119a5": {
      "model_module": "@jupyter-widgets/base",
      "model_module_version": "1.2.0",
      "model_name": "LayoutModel",
      "state": {}
     },
     "fe364a39a0bb4e87b2307b33d18afc47": {
      "model_module": "@jupyter-widgets/base",
      "model_module_version": "1.2.0",
      "model_name": "LayoutModel",
      "state": {}
     },
     "ff333c9b6f23408d9309fccf8dc317a2": {
      "model_module": "@jupyter-widgets/controls",
      "model_module_version": "1.5.0",
      "model_name": "DescriptionStyleModel",
      "state": {
       "description_width": "initial"
      }
     }
    },
    "version_major": 2,
    "version_minor": 0
   }
  }
 },
 "nbformat": 4,
 "nbformat_minor": 4
}
