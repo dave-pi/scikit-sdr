{
 "cells": [
  {
   "cell_type": "markdown",
   "metadata": {},
   "source": [
    "# <center>Scrambing/Descrambing Introductory Demo</center>\n",
    "\n",
    "This demo includes a graphical interface to specify the module's properties and is meant as an introduction to it's functionality. The **Polynomial** and **Initial State** map to the module's properties. The input is a list of bits specified in the **Bits** field.\n",
    "\n",
    "The main functionality to observe in the output is that the scrambled bit sequence should have frequent transitions, regardless of the input sequence pattern. The unscrambled bit sequence should match the input bit sequence.\n",
    "\n",
    "A new instance should be created (using the **Init** button), whenever new parameters are specified. To clear the ouput, use the Jupyter Notebook's own shortcuts. Refer to the documentation in the Help menu."
   ]
  },
  {
   "cell_type": "code",
   "execution_count": 1,
   "metadata": {},
   "outputs": [
    {
     "data": {
      "application/vnd.jupyter.widget-view+json": {
       "model_id": "ef1422be6ff843d2abe6d3ca04c77440",
       "version_major": 2,
       "version_minor": 0
      },
      "text/plain": [
       "VBox(children=(GridspecLayout(children=(Text(value='[1, 1, 1, 0, 1]', continuous_update=False, description='Po…"
      ]
     },
     "metadata": {},
     "output_type": "display_data"
    }
   ],
   "source": [
    "%matplotlib inline\n",
    "\n",
    "import ipywidgets as widgets\n",
    "import matplotlib.pyplot as plt\n",
    "import numpy as np\n",
    "\n",
    "import sksdr\n",
    "import utils\n",
    "\n",
    "scrambler = None\n",
    "descrambler = None\n",
    "\n",
    "def init(b):\n",
    "    global scrambler, descrambler, disp\n",
    "    poly = poly_widget.value\n",
    "    init_state = init_state_widget.value\n",
    "    scrambler = sksdr.Scrambler(eval(poly), eval(init_state))\n",
    "    descrambler = sksdr.Descrambler(eval(poly), eval(init_state))\n",
    "    with disp:\n",
    "        print('Initiated scrambler with ' + repr(scrambler))\n",
    "\n",
    "def execute(b):\n",
    "    global scrambler, descrambler, disp\n",
    "    in_bits = np.array(eval(bits_widget.value))\n",
    "    scrambled_bits = scrambler(in_bits)\n",
    "    descrambled_bits = descrambler(scrambled_bits)\n",
    "    with disp:\n",
    "        print('Original bits: ' + repr(in_bits))\n",
    "        print('Scrambled bits: ' + repr(scrambled_bits))\n",
    "        print('Descrambled bits: ' + repr(descrambled_bits))\n",
    "\n",
    "style = dict(utils.description_width_style)\n",
    "settings_grid = widgets.GridspecLayout(1, 3)\n",
    "settings_grid[0, 0] = poly_widget = widgets.Text(description='Polynomial:', value='[1, 1, 1, 0, 1]', continuous_update=False, style=style)\n",
    "settings_grid[0, 1] = init_state_widget = widgets.Text(description='Initial state:', value='[0, 1, 1, 0]', continuous_update=False, style=style)\n",
    "settings_grid[0, 2] = bits_widget = widgets.Text(description='Bits:', value=str([0] * 10), continuous_update=False, style=style)\n",
    "init_button = widgets.Button(description='Init', tooltip='Init')\n",
    "init_button.on_click(init)\n",
    "execute_button = widgets.Button(description='Execute', tooltip='Execute')\n",
    "execute_button.on_click(execute)\n",
    "disp = widgets.Output()\n",
    "ui = widgets.VBox([\n",
    "    settings_grid,\n",
    "    widgets.HBox([init_button, execute_button]),\n",
    "    disp\n",
    "])\n",
    "display(ui)"
   ]
  }
 ],
 "metadata": {
  "kernelspec": {
   "display_name": "Python 3",
   "language": "python",
   "name": "python3"
  },
  "language_info": {
   "codemirror_mode": {
    "name": "ipython",
    "version": 3
   },
   "file_extension": ".py",
   "mimetype": "text/x-python",
   "name": "python",
   "nbconvert_exporter": "python",
   "pygments_lexer": "ipython3",
   "version": "3.6.9"
  }
 },
 "nbformat": 4,
 "nbformat_minor": 4
}
