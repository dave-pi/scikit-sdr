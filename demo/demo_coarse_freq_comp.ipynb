{
 "cells": [
  {
   "cell_type": "markdown",
   "metadata": {},
   "source": [
    "# <center>CFC Introductory Demo</center>\n",
    "\n",
    "This demo includes a graphical interface to specify the module's properties and is meant as an introduction to it's functionality. The **Modulation**, **Sample rate** and **Frequency resolution** fields, translate directly to the equivalent module properties.\n",
    "\n",
    "The **Number of samples** field is the length of the input signal. it populates a variable *n* that can be used in the **Signal** field. Any valid Python expression can be used for the input signal (defined by the *sig* variable). An additional cell has been provided with experimental signals that can be pasted into the Signal field. Note that the module uses a ring buffer of size $N$ to store the input samples. To avoid mixing unrelated input signals, a new instance should be initialized (which flushes the buffer) whenever a new input signal is chosen.\n",
    "\n",
    "The output shows plots of the (uncorrected) input and (corrected) output signals. It also reports the detected offset.\n",
    "\n",
    "A new instance should be created (using the **Init** button), whenever new parameters (or a new unrelated input signal) are specified. To clear the ouput, use the Jupyter Notebook's own shortcuts. Refer to the documentation in the Help menu."
   ]
  },
  {
   "cell_type": "code",
   "execution_count": null,
   "metadata": {},
   "outputs": [],
   "source": [
    "%matplotlib inline\n",
    "\n",
    "import ipywidgets as widgets\n",
    "import matplotlib.gridspec as gridspec\n",
    "import matplotlib.pyplot as plt\n",
    "import numpy as np\n",
    "\n",
    "import sksdr\n",
    "import utils\n",
    "\n",
    "cfc = None\n",
    "\n",
    "def init(b):\n",
    "    global cfc, disp\n",
    "    mod = modulation_widget.value\n",
    "    sample_rate = sample_rate_widget.value\n",
    "    freq_res = freq_res_widget.value\n",
    "    cfc = sksdr.CoarseFrequencyComp(mod.order, sample_rate, freq_res)\n",
    "    with disp:\n",
    "        print('Initiated CFC with ' + repr(cfc))\n",
    "\n",
    "def execute(b):\n",
    "    global cfc, disp\n",
    "    n = np.arange(num_samples_widget.value)\n",
    "    _locals = {'n': n}\n",
    "    exec(signal_widget.value, None, _locals)\n",
    "    sig = _locals['sig']\n",
    "    with disp:\n",
    "        fig = plt.figure(figsize=(15,10))\n",
    "        gs = gridspec.GridSpec(2, 2, figure=fig)\n",
    "        sksdr.psd_plot(sig, cfc.sample_rate, 'Input Signal', fig=fig, gs=gs[0, 0])\n",
    "        out, _, offset = cfc(sig)\n",
    "        sksdr.psd_plot(out, cfc.sample_rate, 'Output Signal', fig=fig, gs=gs[0, 1])\n",
    "        plt.show()\n",
    "        print('Offset: ' + str(offset) + ' ' + 'Hz')\n",
    "\n",
    "style = dict(utils.description_width_style)\n",
    "settings_grid = widgets.GridspecLayout(2, 3)\n",
    "settings_grid[0, 0] = modulation_widget = widgets.Dropdown(description='Modulation:', options=[('BPSK', sksdr.BPSK), ('QPSK', sksdr.QPSK)], value=sksdr.QPSK, continuous_update=False, style=style )\n",
    "settings_grid[0, 1] = sample_rate_widget = widgets.BoundedFloatText(description='Sample rate (Hz):', value=1.0, min=0, max=np.finfo(float).max, continuous_update=False, style=style)\n",
    "settings_grid[0, 2] = freq_res_widget = widgets.BoundedFloatText(description='Frequency resolution (Hz): ', value=0.000125, min=0, max=np.finfo(float).max, continuous_update=False, style=style)\n",
    "settings_grid[1, 0] = num_samples_widget = widgets.BoundedIntText(description='Number of samples (n=):', value=100, min=1, max=np.iinfo(int).max, continuous_update=False, style=style)\n",
    "settings_grid[1, 1:] = signal_widget = widgets.Textarea(description='Signal (sig=):', value='sig = np.exp(2j * np.pi / 12 * n)', continuous_update=False, style=style, layout=widgets.Layout(height='auto', width='auto'))\n",
    "init_button = widgets.Button(description='Init', tooltip='Init')\n",
    "init_button.on_click(init)\n",
    "execute_button = widgets.Button(description='Execute', tooltip='Execute')\n",
    "execute_button.on_click(execute)\n",
    "disp = widgets.Output()\n",
    "ui = widgets.VBox([\n",
    "    settings_grid,\n",
    "    widgets.HBox([init_button, execute_button]),\n",
    "    disp\n",
    "])\n",
    "display(ui)"
   ]
  },
  {
   "cell_type": "code",
   "execution_count": null,
   "metadata": {},
   "outputs": [],
   "source": [
    "# To test these examples, paste the code into the Signal field\n",
    "\n",
    "# Simple complex exponencial with 12 samples per cyle\n",
    "#sig = np.exp(2j * np.pi / 12 * n)\n",
    "\n",
    "# 100 bits modulated with QPSK, upsampled by 4 and passed through a PhaseFrequencyOffset impairment. Sample_rate=100e3, freq_error=5e3\n",
    "bits = np.random.randint(0, 2, 100)\n",
    "psk = sksdr.PSKModulator(sksdr.QPSK, [0,1,3,2], 1, np.pi/4)\n",
    "symbols = psk.modulate(bits)\n",
    "fir = sksdr.FirInterpolator(4, sksdr.rrc(4, 0.5, 10))\n",
    "_, frame = fir(symbols)\n",
    "pfo = sksdr.PhaseFrequencyOffset(100e3, 5000, 0) \n",
    "sig, _ = pfo(frame)"
   ]
  }
 ],
 "metadata": {
  "kernelspec": {
   "display_name": "Python 3",
   "language": "python",
   "name": "python3"
  },
  "language_info": {
   "codemirror_mode": {
    "name": "ipython",
    "version": 3
   },
   "file_extension": ".py",
   "mimetype": "text/x-python",
   "name": "python",
   "nbconvert_exporter": "python",
   "pygments_lexer": "ipython3",
   "version": "3.6.9"
  }
 },
 "nbformat": 4,
 "nbformat_minor": 4
}
